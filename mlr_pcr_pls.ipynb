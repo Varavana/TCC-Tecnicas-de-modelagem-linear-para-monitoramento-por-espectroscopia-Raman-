{
  "cells": [
    {
      "cell_type": "markdown",
      "metadata": {
        "id": "PFsEDCzgvmdl"
      },
      "source": [
        "## Models with pre-processing and cross validation"
      ]
    },
    {
      "cell_type": "markdown",
      "source": [
        "### Data preparation"
      ],
      "metadata": {
        "id": "Jk1JrfYJgjdU"
      }
    },
    {
      "cell_type": "markdown",
      "source": [
        "#### Importing required libraries"
      ],
      "metadata": {
        "id": "uE8IxLO3gQul"
      }
    },
    {
      "cell_type": "code",
      "source": [
        "!pip install matplotlib==3.4"
      ],
      "metadata": {
        "id": "lQbmvAwZv5My"
      },
      "execution_count": null,
      "outputs": []
    },
    {
      "cell_type": "code",
      "source": [
        "from google.colab import drive\n",
        "drive.mount('/content/drive')"
      ],
      "metadata": {
        "id": "dOTQLJhrvtoD",
        "colab": {
          "base_uri": "https://localhost:8080/"
        },
        "outputId": "1f33e4ea-c0dc-4b75-c8dd-261fb5988cbc"
      },
      "execution_count": 1,
      "outputs": [
        {
          "output_type": "stream",
          "name": "stdout",
          "text": [
            "Mounted at /content/drive\n"
          ]
        }
      ]
    },
    {
      "cell_type": "code",
      "execution_count": 2,
      "metadata": {
        "id": "ngq5Q5Y8vmdl"
      },
      "outputs": [],
      "source": [
        "from sklearn.base import BaseEstimator, TransformerMixin\n",
        "from sklearn.decomposition import PCA\n",
        "from scipy.signal import savgol_filter\n",
        "from scipy import sparse\n",
        "from scipy.sparse.linalg import spsolve\n",
        "from sklearn.model_selection import cross_val_score\n",
        "from sklearn.preprocessing import StandardScaler\n",
        "from sklearn.model_selection import train_test_split\n",
        "from sklearn.linear_model import LinearRegression, Lasso, ElasticNet, Ridge\n",
        "from sklearn.metrics import mean_squared_error, mean_absolute_percentage_error\n",
        "from sklearn.svm import SVR\n",
        "from sklearn.model_selection import GridSearchCV, RandomizedSearchCV\n",
        "from sklearn.pipeline import Pipeline\n",
        "from sklearn.feature_selection import SelectKBest, f_regression\n",
        "from sklearn.cross_decomposition import PLSRegression\n",
        "import pandas as pd\n",
        "import joblib\n",
        "import seaborn as sns\n",
        "import numpy as np\n",
        "import matplotlib.pyplot as plt"
      ]
    },
    {
      "cell_type": "markdown",
      "metadata": {
        "id": "Dz9VFlUwvmdn"
      },
      "source": [
        "#### Pre-processing\n",
        "- Savitzty-Golay\n",
        "- Baseline correction for raman spectra"
      ]
    },
    {
      "cell_type": "code",
      "execution_count": 3,
      "metadata": {
        "id": "46jFyptjvmdn"
      },
      "outputs": [],
      "source": [
        "# savgol filter\n",
        "class SavgolTransformer(BaseEstimator, TransformerMixin):\n",
        "    def __init__(self, num_of_points=0, degree=1):\n",
        "        self.num_of_points = num_of_points\n",
        "        self.degree = degree\n",
        "    \n",
        "    def fit(self, X, y=None):\n",
        "        return self\n",
        "    \n",
        "    def transform(self, X, y=None):\n",
        "        # print(self.num_of_points, self.degree, X, sep='\\n')\n",
        "        return X.apply(savgol_filter, args=(self.num_of_points, self.degree))\n",
        "\n",
        "\n",
        "# baseline correction\n",
        "def baseline_als(y, lam, p, niter=10):\n",
        "  L = len(y)\n",
        "  D = sparse.csc_matrix(np.diff(np.eye(L), 2))\n",
        "  w = np.ones(L)\n",
        "  for i in range(niter):\n",
        "    W = sparse.spdiags(w, 0, L, L)\n",
        "    Z = W + lam * D.dot(D.transpose())\n",
        "    z = spsolve(Z, w*y)\n",
        "    w = p * (y > z) + (1-p) * (y < z)\n",
        "  return z"
      ]
    },
    {
      "cell_type": "markdown",
      "source": [
        "### MLR"
      ],
      "metadata": {
        "id": "TlaH6UpYx-Eg"
      }
    },
    {
      "cell_type": "code",
      "source": [
        "spectral_data = {\"online\": \n",
        "                      {\"/content/drive/MyDrive/TCC/Data/Data base of online spectra for samples with cells-VLP rabies.xlsx\": [False, \"Best_models_raw_100_3425/Online_Best_MLR.pkl\"],\n",
        "                      \"/content/drive/MyDrive/TCC/Data/Data base of online spectra (X 400-1850 cm-1) for samples with cells-VLP rabies.xlsx\": [True, \"Best_models_400_1850/Online_Best_MLR.pkl\"],\n",
        "                      \"/content/drive/MyDrive/TCC/Data/Data base of online spectra (X 2800-3425 cm-1) for samples with cells-VLP rabies.xlsx\": [True, \"Best_models_2425_2800/Online_Best_MLR.pkl\"]},\n",
        "                 \"offline\":\n",
        "                      {\"/content/drive/MyDrive/TCC/Data/Data base of offline spectra for samples with cells-VLP rabies.xlsx\": [False, \"Best_models_raw_100_3425/Offline_Best_MLR.pkl\"],\n",
        "                      \"/content/drive/MyDrive/TCC/Data/Data base of offline spectra (X 400-1850 cm-1) for samples with cells-VLP rabies.xlsx\": [True, \"Best_models_400_1850/Offline_Best_MLR.pkl\"],\n",
        "                      \"/content/drive/MyDrive/TCC/Data/Data base of offline spectra (X 2800-3425 cm-1) for samples with cells-VLP rabies.xlsx\": [True, \"Best_models_2425_2800/Offline_Best_MLR.pkl\"]}\n",
        "                 }\n",
        "\n",
        "for data_type, data_path_dict in spectral_data.items():\n",
        "  for path, configs in data_path_dict.items():\n",
        "\n",
        "    X = pd.read_excel(path, sheet_name='X data')\n",
        "    y = pd.read_excel(path, sheet_name='Y data')\n",
        "\n",
        "    X.set_index('Raman shift', inplace = True)\n",
        "    y.set_index('Sample', inplace = True)\n",
        "\n",
        "    if configs[0]:\n",
        "      X_c = X.copy()\n",
        "      X_smoothed = X_c.apply(savgol_filter, args=(15, 1))\n",
        "      X_smoothed_baseline = X_smoothed.apply(baseline_als, args=(1000000, 0.1))\n",
        "    else:\n",
        "      X_smoothed_baseline = X\n",
        "\n",
        "    results_MLR = {}\n",
        "\n",
        "    for column in y:\n",
        "\n",
        "        target = y[column]\n",
        "\n",
        "        X_train, X_test, y_train, y_test = train_test_split(X_smoothed_baseline, target, test_size=0.2, random_state=123, stratify=target)\n",
        "        standard_S = StandardScaler()\n",
        "        X_train_S = standard_S.fit_transform(X_train)\n",
        "        X_test_S = standard_S.transform(X_test)\n",
        "\n",
        "        lin_reg_ridge = Ridge()\n",
        "\n",
        "        parameters_MLR = {'Ridge__alpha': [1e-7, 1e-6, 1e-5],\n",
        "                          'Ridge__max_iter': [10000, 20000, 30000]} \n",
        "        pipe_MLR = Pipeline(steps=[('Ridge', lin_reg_ridge)])\n",
        "        \n",
        "        grid_MLR = GridSearchCV(pipe_MLR, parameters_MLR, scoring='explained_variance', cv=10)\n",
        "        grid_MLR.fit(X_train_S, y_train)\n",
        "\n",
        "        \n",
        "        prediction = grid_MLR.predict(X_test_S)\n",
        "        prediction_rmse = np.sqrt(mean_squared_error(y_test, prediction))\n",
        "        prediction_mape = mean_absolute_percentage_error(y_test, prediction)\n",
        "\n",
        "        results_MLR[column] = [grid_MLR.best_score_, prediction_rmse, prediction_mape, grid_MLR.best_params_, grid_MLR]\n",
        "        print(f'Finished {column}, best model prediciton RSME = {prediction_rmse:.6f}, MAPE = {prediction_mape:.2%}')\n",
        "    \n",
        "    print(f\"\\n--> Finished {path}\", f\"--> Saving results to as {configs[1]}\\n\", sep=\"\\n\")\n",
        "    \n",
        "    joblib.dump(results_MLR, f\"/content/drive/MyDrive/TCC/Trained models/{configs[1]}\")"
      ],
      "metadata": {
        "colab": {
          "base_uri": "https://localhost:8080/"
        },
        "id": "LV_dg9wpyBuM",
        "outputId": "383f7b51-c88a-4dff-fa43-425d4053095f"
      },
      "execution_count": null,
      "outputs": [
        {
          "output_type": "stream",
          "name": "stdout",
          "text": [
            "Finished Xv, best model prediciton RSME = 740186.472686, MAPE = 198.39%\n",
            "Finished CV, best model prediciton RSME = 13.813269, MAPE = 59.78%\n",
            "Finished Gluc, best model prediciton RSME = 0.815506, MAPE = 6.33%\n",
            "Finished Lac, best model prediciton RSME = 0.014528, MAPE = 25.84%\n",
            "Finished Gln, best model prediciton RSME = 0.134874, MAPE = 11.86%\n",
            "Finished Glu, best model prediciton RSME = 0.155619, MAPE = 8.20%\n",
            "Finished NH4, best model prediciton RSME = 0.005836, MAPE = 5.04%\n",
            "Finished K, best model prediciton RSME = 0.039238, MAPE = 5.16%\n",
            "\n",
            "--> Finished /content/drive/MyDrive/TCC/Data/Data base of online spectra for samples with cells-VLP rabies.xlsx\n",
            "--> Saving results to as Best_models_raw_100_3425/Online_Best_MLR.pkl\n",
            "\n",
            "Finished Xv , best model prediciton RSME = 412325.754384, MAPE = 40.67%\n",
            "Finished CV , best model prediciton RSME = 12.181265, MAPE = 37.56%\n",
            "Finished Gluc, best model prediciton RSME = 0.534051, MAPE = 4.53%\n",
            "Finished Lac, best model prediciton RSME = 0.010772, MAPE = 15.44%\n",
            "Finished Gln, best model prediciton RSME = 0.132142, MAPE = 9.92%\n",
            "Finished Glu, best model prediciton RSME = 0.115298, MAPE = 5.77%\n",
            "Finished NH4, best model prediciton RSME = 0.004713, MAPE = 4.06%\n",
            "Finished K, best model prediciton RSME = 0.023996, MAPE = 3.19%\n",
            "\n",
            "--> Finished /content/drive/MyDrive/TCC/Data/Data base of online spectra (X 400-1850 cm-1) for samples with cells-VLP rabies.xlsx\n",
            "--> Saving results to as Best_models_400_1850/Online_Best_MLR.pkl\n",
            "\n",
            "Finished Xv , best model prediciton RSME = 397566.635174, MAPE = 26.16%\n",
            "Finished CV , best model prediciton RSME = 11.392323, MAPE = 35.13%\n",
            "Finished Gluc, best model prediciton RSME = 0.537544, MAPE = 4.55%\n",
            "Finished Lac, best model prediciton RSME = 0.010477, MAPE = 14.42%\n",
            "Finished Gln, best model prediciton RSME = 0.119888, MAPE = 8.91%\n",
            "Finished Glu, best model prediciton RSME = 0.108050, MAPE = 5.18%\n",
            "Finished NH4, best model prediciton RSME = 0.004465, MAPE = 3.77%\n",
            "Finished K, best model prediciton RSME = 0.022946, MAPE = 3.00%\n",
            "\n",
            "--> Finished /content/drive/MyDrive/TCC/Data/Data base of online spectra (X 2800-3425 cm-1) for samples with cells-VLP rabies.xlsx\n",
            "--> Saving results to as Best_models_2425_2800/Online_Best_MLR.pkl\n",
            "\n",
            "Finished Xv , best model prediciton RSME = 759159.238047, MAPE = 118.93%\n",
            "Finished CV , best model prediciton RSME = 13.640258, MAPE = 32.24%\n",
            "Finished Gluc, best model prediciton RSME = 0.899293, MAPE = 7.71%\n",
            "Finished Lac, best model prediciton RSME = 0.016135, MAPE = 32.45%\n",
            "Finished Gln, best model prediciton RSME = 0.310724, MAPE = 16.35%\n",
            "Finished Glu, best model prediciton RSME = 0.239170, MAPE = 9.48%\n",
            "Finished NH4, best model prediciton RSME = 0.007589, MAPE = 6.50%\n",
            "Finished K, best model prediciton RSME = 0.053356, MAPE = 5.79%\n",
            "\n",
            "--> Finished /content/drive/MyDrive/TCC/Data/Data base of offline spectra for samples with cells-VLP rabies.xlsx\n",
            "--> Saving results to as Best_models_raw_100_3425/Offline_Best_MLR.pkl\n",
            "\n"
          ]
        },
        {
          "output_type": "stream",
          "name": "stderr",
          "text": [
            "/usr/local/lib/python3.7/dist-packages/sklearn/utils/validation.py:1692: FutureWarning: Feature names only support names that are all strings. Got feature names with dtypes: ['float']. An error will be raised in 1.2.\n",
            "  FutureWarning,\n",
            "/usr/local/lib/python3.7/dist-packages/sklearn/utils/validation.py:1692: FutureWarning: Feature names only support names that are all strings. Got feature names with dtypes: ['float']. An error will be raised in 1.2.\n",
            "  FutureWarning,\n",
            "/usr/local/lib/python3.7/dist-packages/sklearn/utils/validation.py:1692: FutureWarning: Feature names only support names that are all strings. Got feature names with dtypes: ['float']. An error will be raised in 1.2.\n",
            "  FutureWarning,\n"
          ]
        },
        {
          "output_type": "stream",
          "name": "stdout",
          "text": [
            "Finished Xv , best model prediciton RSME = 529134.671211, MAPE = 35.76%\n"
          ]
        },
        {
          "output_type": "stream",
          "name": "stderr",
          "text": [
            "/usr/local/lib/python3.7/dist-packages/sklearn/utils/validation.py:1692: FutureWarning: Feature names only support names that are all strings. Got feature names with dtypes: ['float']. An error will be raised in 1.2.\n",
            "  FutureWarning,\n",
            "/usr/local/lib/python3.7/dist-packages/sklearn/utils/validation.py:1692: FutureWarning: Feature names only support names that are all strings. Got feature names with dtypes: ['float']. An error will be raised in 1.2.\n",
            "  FutureWarning,\n",
            "/usr/local/lib/python3.7/dist-packages/sklearn/utils/validation.py:1692: FutureWarning: Feature names only support names that are all strings. Got feature names with dtypes: ['float']. An error will be raised in 1.2.\n",
            "  FutureWarning,\n"
          ]
        },
        {
          "output_type": "stream",
          "name": "stdout",
          "text": [
            "Finished CV , best model prediciton RSME = 11.623158, MAPE = 35.30%\n"
          ]
        },
        {
          "output_type": "stream",
          "name": "stderr",
          "text": [
            "/usr/local/lib/python3.7/dist-packages/sklearn/utils/validation.py:1692: FutureWarning: Feature names only support names that are all strings. Got feature names with dtypes: ['float']. An error will be raised in 1.2.\n",
            "  FutureWarning,\n",
            "/usr/local/lib/python3.7/dist-packages/sklearn/utils/validation.py:1692: FutureWarning: Feature names only support names that are all strings. Got feature names with dtypes: ['float']. An error will be raised in 1.2.\n",
            "  FutureWarning,\n",
            "/usr/local/lib/python3.7/dist-packages/sklearn/utils/validation.py:1692: FutureWarning: Feature names only support names that are all strings. Got feature names with dtypes: ['float']. An error will be raised in 1.2.\n",
            "  FutureWarning,\n"
          ]
        },
        {
          "output_type": "stream",
          "name": "stdout",
          "text": [
            "Finished Gluc, best model prediciton RSME = 0.560868, MAPE = 4.77%\n"
          ]
        },
        {
          "output_type": "stream",
          "name": "stderr",
          "text": [
            "/usr/local/lib/python3.7/dist-packages/sklearn/utils/validation.py:1692: FutureWarning: Feature names only support names that are all strings. Got feature names with dtypes: ['float']. An error will be raised in 1.2.\n",
            "  FutureWarning,\n",
            "/usr/local/lib/python3.7/dist-packages/sklearn/utils/validation.py:1692: FutureWarning: Feature names only support names that are all strings. Got feature names with dtypes: ['float']. An error will be raised in 1.2.\n",
            "  FutureWarning,\n",
            "/usr/local/lib/python3.7/dist-packages/sklearn/utils/validation.py:1692: FutureWarning: Feature names only support names that are all strings. Got feature names with dtypes: ['float']. An error will be raised in 1.2.\n",
            "  FutureWarning,\n"
          ]
        },
        {
          "output_type": "stream",
          "name": "stdout",
          "text": [
            "Finished Lac, best model prediciton RSME = 0.010994, MAPE = 15.44%\n"
          ]
        },
        {
          "output_type": "stream",
          "name": "stderr",
          "text": [
            "/usr/local/lib/python3.7/dist-packages/sklearn/utils/validation.py:1692: FutureWarning: Feature names only support names that are all strings. Got feature names with dtypes: ['float']. An error will be raised in 1.2.\n",
            "  FutureWarning,\n",
            "/usr/local/lib/python3.7/dist-packages/sklearn/utils/validation.py:1692: FutureWarning: Feature names only support names that are all strings. Got feature names with dtypes: ['float']. An error will be raised in 1.2.\n",
            "  FutureWarning,\n",
            "/usr/local/lib/python3.7/dist-packages/sklearn/utils/validation.py:1692: FutureWarning: Feature names only support names that are all strings. Got feature names with dtypes: ['float']. An error will be raised in 1.2.\n",
            "  FutureWarning,\n"
          ]
        },
        {
          "output_type": "stream",
          "name": "stdout",
          "text": [
            "Finished Gln, best model prediciton RSME = 0.133399, MAPE = 11.26%\n"
          ]
        },
        {
          "output_type": "stream",
          "name": "stderr",
          "text": [
            "/usr/local/lib/python3.7/dist-packages/sklearn/utils/validation.py:1692: FutureWarning: Feature names only support names that are all strings. Got feature names with dtypes: ['float']. An error will be raised in 1.2.\n",
            "  FutureWarning,\n",
            "/usr/local/lib/python3.7/dist-packages/sklearn/utils/validation.py:1692: FutureWarning: Feature names only support names that are all strings. Got feature names with dtypes: ['float']. An error will be raised in 1.2.\n",
            "  FutureWarning,\n",
            "/usr/local/lib/python3.7/dist-packages/sklearn/utils/validation.py:1692: FutureWarning: Feature names only support names that are all strings. Got feature names with dtypes: ['float']. An error will be raised in 1.2.\n",
            "  FutureWarning,\n"
          ]
        },
        {
          "output_type": "stream",
          "name": "stdout",
          "text": [
            "Finished Glu, best model prediciton RSME = 0.112445, MAPE = 5.69%\n"
          ]
        },
        {
          "output_type": "stream",
          "name": "stderr",
          "text": [
            "/usr/local/lib/python3.7/dist-packages/sklearn/utils/validation.py:1692: FutureWarning: Feature names only support names that are all strings. Got feature names with dtypes: ['float']. An error will be raised in 1.2.\n",
            "  FutureWarning,\n",
            "/usr/local/lib/python3.7/dist-packages/sklearn/utils/validation.py:1692: FutureWarning: Feature names only support names that are all strings. Got feature names with dtypes: ['float']. An error will be raised in 1.2.\n",
            "  FutureWarning,\n",
            "/usr/local/lib/python3.7/dist-packages/sklearn/utils/validation.py:1692: FutureWarning: Feature names only support names that are all strings. Got feature names with dtypes: ['float']. An error will be raised in 1.2.\n",
            "  FutureWarning,\n"
          ]
        },
        {
          "output_type": "stream",
          "name": "stdout",
          "text": [
            "Finished NH4, best model prediciton RSME = 0.004591, MAPE = 3.96%\n"
          ]
        },
        {
          "output_type": "stream",
          "name": "stderr",
          "text": [
            "/usr/local/lib/python3.7/dist-packages/sklearn/utils/validation.py:1692: FutureWarning: Feature names only support names that are all strings. Got feature names with dtypes: ['float']. An error will be raised in 1.2.\n",
            "  FutureWarning,\n",
            "/usr/local/lib/python3.7/dist-packages/sklearn/utils/validation.py:1692: FutureWarning: Feature names only support names that are all strings. Got feature names with dtypes: ['float']. An error will be raised in 1.2.\n",
            "  FutureWarning,\n",
            "/usr/local/lib/python3.7/dist-packages/sklearn/utils/validation.py:1692: FutureWarning: Feature names only support names that are all strings. Got feature names with dtypes: ['float']. An error will be raised in 1.2.\n",
            "  FutureWarning,\n"
          ]
        },
        {
          "output_type": "stream",
          "name": "stdout",
          "text": [
            "Finished K, best model prediciton RSME = 0.023679, MAPE = 3.05%\n",
            "\n",
            "--> Finished /content/drive/MyDrive/TCC/Data/Data base of offline spectra (X 400-1850 cm-1) for samples with cells-VLP rabies.xlsx\n",
            "--> Saving results to as Best_models_400_1850/Offline_Best_MLR.pkl\n",
            "\n"
          ]
        },
        {
          "output_type": "stream",
          "name": "stderr",
          "text": [
            "/usr/local/lib/python3.7/dist-packages/sklearn/utils/validation.py:1692: FutureWarning: Feature names only support names that are all strings. Got feature names with dtypes: ['float']. An error will be raised in 1.2.\n",
            "  FutureWarning,\n",
            "/usr/local/lib/python3.7/dist-packages/sklearn/utils/validation.py:1692: FutureWarning: Feature names only support names that are all strings. Got feature names with dtypes: ['float']. An error will be raised in 1.2.\n",
            "  FutureWarning,\n",
            "/usr/local/lib/python3.7/dist-packages/sklearn/utils/validation.py:1692: FutureWarning: Feature names only support names that are all strings. Got feature names with dtypes: ['float']. An error will be raised in 1.2.\n",
            "  FutureWarning,\n"
          ]
        },
        {
          "output_type": "stream",
          "name": "stdout",
          "text": [
            "Finished Xv , best model prediciton RSME = 475512.594599, MAPE = 34.90%\n"
          ]
        },
        {
          "output_type": "stream",
          "name": "stderr",
          "text": [
            "/usr/local/lib/python3.7/dist-packages/sklearn/utils/validation.py:1692: FutureWarning: Feature names only support names that are all strings. Got feature names with dtypes: ['float']. An error will be raised in 1.2.\n",
            "  FutureWarning,\n",
            "/usr/local/lib/python3.7/dist-packages/sklearn/utils/validation.py:1692: FutureWarning: Feature names only support names that are all strings. Got feature names with dtypes: ['float']. An error will be raised in 1.2.\n",
            "  FutureWarning,\n",
            "/usr/local/lib/python3.7/dist-packages/sklearn/utils/validation.py:1692: FutureWarning: Feature names only support names that are all strings. Got feature names with dtypes: ['float']. An error will be raised in 1.2.\n",
            "  FutureWarning,\n"
          ]
        },
        {
          "output_type": "stream",
          "name": "stdout",
          "text": [
            "Finished CV , best model prediciton RSME = 11.155720, MAPE = 32.69%\n"
          ]
        },
        {
          "output_type": "stream",
          "name": "stderr",
          "text": [
            "/usr/local/lib/python3.7/dist-packages/sklearn/utils/validation.py:1692: FutureWarning: Feature names only support names that are all strings. Got feature names with dtypes: ['float']. An error will be raised in 1.2.\n",
            "  FutureWarning,\n",
            "/usr/local/lib/python3.7/dist-packages/sklearn/utils/validation.py:1692: FutureWarning: Feature names only support names that are all strings. Got feature names with dtypes: ['float']. An error will be raised in 1.2.\n",
            "  FutureWarning,\n",
            "/usr/local/lib/python3.7/dist-packages/sklearn/utils/validation.py:1692: FutureWarning: Feature names only support names that are all strings. Got feature names with dtypes: ['float']. An error will be raised in 1.2.\n",
            "  FutureWarning,\n"
          ]
        },
        {
          "output_type": "stream",
          "name": "stdout",
          "text": [
            "Finished Gluc, best model prediciton RSME = 0.521126, MAPE = 4.32%\n"
          ]
        },
        {
          "output_type": "stream",
          "name": "stderr",
          "text": [
            "/usr/local/lib/python3.7/dist-packages/sklearn/utils/validation.py:1692: FutureWarning: Feature names only support names that are all strings. Got feature names with dtypes: ['float']. An error will be raised in 1.2.\n",
            "  FutureWarning,\n",
            "/usr/local/lib/python3.7/dist-packages/sklearn/utils/validation.py:1692: FutureWarning: Feature names only support names that are all strings. Got feature names with dtypes: ['float']. An error will be raised in 1.2.\n",
            "  FutureWarning,\n",
            "/usr/local/lib/python3.7/dist-packages/sklearn/utils/validation.py:1692: FutureWarning: Feature names only support names that are all strings. Got feature names with dtypes: ['float']. An error will be raised in 1.2.\n",
            "  FutureWarning,\n"
          ]
        },
        {
          "output_type": "stream",
          "name": "stdout",
          "text": [
            "Finished Lac, best model prediciton RSME = 0.010553, MAPE = 14.75%\n"
          ]
        },
        {
          "output_type": "stream",
          "name": "stderr",
          "text": [
            "/usr/local/lib/python3.7/dist-packages/sklearn/utils/validation.py:1692: FutureWarning: Feature names only support names that are all strings. Got feature names with dtypes: ['float']. An error will be raised in 1.2.\n",
            "  FutureWarning,\n",
            "/usr/local/lib/python3.7/dist-packages/sklearn/utils/validation.py:1692: FutureWarning: Feature names only support names that are all strings. Got feature names with dtypes: ['float']. An error will be raised in 1.2.\n",
            "  FutureWarning,\n",
            "/usr/local/lib/python3.7/dist-packages/sklearn/utils/validation.py:1692: FutureWarning: Feature names only support names that are all strings. Got feature names with dtypes: ['float']. An error will be raised in 1.2.\n",
            "  FutureWarning,\n"
          ]
        },
        {
          "output_type": "stream",
          "name": "stdout",
          "text": [
            "Finished Gln, best model prediciton RSME = 0.124833, MAPE = 9.98%\n"
          ]
        },
        {
          "output_type": "stream",
          "name": "stderr",
          "text": [
            "/usr/local/lib/python3.7/dist-packages/sklearn/utils/validation.py:1692: FutureWarning: Feature names only support names that are all strings. Got feature names with dtypes: ['float']. An error will be raised in 1.2.\n",
            "  FutureWarning,\n",
            "/usr/local/lib/python3.7/dist-packages/sklearn/utils/validation.py:1692: FutureWarning: Feature names only support names that are all strings. Got feature names with dtypes: ['float']. An error will be raised in 1.2.\n",
            "  FutureWarning,\n",
            "/usr/local/lib/python3.7/dist-packages/sklearn/utils/validation.py:1692: FutureWarning: Feature names only support names that are all strings. Got feature names with dtypes: ['float']. An error will be raised in 1.2.\n",
            "  FutureWarning,\n"
          ]
        },
        {
          "output_type": "stream",
          "name": "stdout",
          "text": [
            "Finished Glu, best model prediciton RSME = 0.106405, MAPE = 5.28%\n"
          ]
        },
        {
          "output_type": "stream",
          "name": "stderr",
          "text": [
            "/usr/local/lib/python3.7/dist-packages/sklearn/utils/validation.py:1692: FutureWarning: Feature names only support names that are all strings. Got feature names with dtypes: ['float']. An error will be raised in 1.2.\n",
            "  FutureWarning,\n",
            "/usr/local/lib/python3.7/dist-packages/sklearn/utils/validation.py:1692: FutureWarning: Feature names only support names that are all strings. Got feature names with dtypes: ['float']. An error will be raised in 1.2.\n",
            "  FutureWarning,\n",
            "/usr/local/lib/python3.7/dist-packages/sklearn/utils/validation.py:1692: FutureWarning: Feature names only support names that are all strings. Got feature names with dtypes: ['float']. An error will be raised in 1.2.\n",
            "  FutureWarning,\n"
          ]
        },
        {
          "output_type": "stream",
          "name": "stdout",
          "text": [
            "Finished NH4, best model prediciton RSME = 0.004372, MAPE = 3.76%\n"
          ]
        },
        {
          "output_type": "stream",
          "name": "stderr",
          "text": [
            "/usr/local/lib/python3.7/dist-packages/sklearn/utils/validation.py:1692: FutureWarning: Feature names only support names that are all strings. Got feature names with dtypes: ['float']. An error will be raised in 1.2.\n",
            "  FutureWarning,\n",
            "/usr/local/lib/python3.7/dist-packages/sklearn/utils/validation.py:1692: FutureWarning: Feature names only support names that are all strings. Got feature names with dtypes: ['float']. An error will be raised in 1.2.\n",
            "  FutureWarning,\n",
            "/usr/local/lib/python3.7/dist-packages/sklearn/utils/validation.py:1692: FutureWarning: Feature names only support names that are all strings. Got feature names with dtypes: ['float']. An error will be raised in 1.2.\n",
            "  FutureWarning,\n"
          ]
        },
        {
          "output_type": "stream",
          "name": "stdout",
          "text": [
            "Finished K, best model prediciton RSME = 0.023203, MAPE = 3.00%\n",
            "\n",
            "--> Finished /content/drive/MyDrive/TCC/Data/Data base of offline spectra (X 2800-3425 cm-1) for samples with cells-VLP rabies.xlsx\n",
            "--> Saving results to as Best_models_2425_2800/Offline_Best_MLR.pkl\n",
            "\n"
          ]
        }
      ]
    },
    {
      "cell_type": "code",
      "source": [
        "MLR_results = pd.DataFrame(results_MLR, index=['RMSE MLR', 'Prediction RSME', 'Prediction MAPE', 'Best alpha', 'Model']).T\n",
        "MLR_results"
      ],
      "metadata": {
        "colab": {
          "base_uri": "https://localhost:8080/",
          "height": 300
        },
        "id": "Mb6QOMzZzliG",
        "outputId": "2ac80ca8-087a-4963-b885-76040335db96"
      },
      "execution_count": null,
      "outputs": [
        {
          "output_type": "execute_result",
          "data": {
            "text/plain": [
              "      RMSE MLR Prediction RSME Prediction MAPE  \\\n",
              "Xv    0.954839   211129.172512        0.157974   \n",
              "CV    0.896644        8.012931        0.248692   \n",
              "Gluc  0.724985        0.314656        0.023714   \n",
              "Lac   0.869412        0.005728        0.084206   \n",
              "Gln   0.874343        0.086621        0.072081   \n",
              "Glu   0.789783        0.078829        0.036228   \n",
              "NH4   0.936467         0.00259        0.021946   \n",
              "K     0.758392        0.013899        0.016775   \n",
              "\n",
              "                                    Best alpha  \\\n",
              "Xv    {'Ridge__alpha': 7e-11, 'KBest__k': 201}   \n",
              "CV    {'Ridge__alpha': 7e-11, 'KBest__k': 282}   \n",
              "Gluc  {'Ridge__alpha': 8e-11, 'KBest__k': 300}   \n",
              "Lac   {'Ridge__alpha': 8e-11, 'KBest__k': 300}   \n",
              "Gln   {'Ridge__alpha': 7e-11, 'KBest__k': 288}   \n",
              "Glu   {'Ridge__alpha': 7e-11, 'KBest__k': 291}   \n",
              "NH4   {'Ridge__alpha': 7e-11, 'KBest__k': 291}   \n",
              "K     {'Ridge__alpha': 7e-11, 'KBest__k': 300}   \n",
              "\n",
              "                                                  Model  \n",
              "Xv    RandomizedSearchCV(cv=10,\\n                   ...  \n",
              "CV    RandomizedSearchCV(cv=10,\\n                   ...  \n",
              "Gluc  RandomizedSearchCV(cv=10,\\n                   ...  \n",
              "Lac   RandomizedSearchCV(cv=10,\\n                   ...  \n",
              "Gln   RandomizedSearchCV(cv=10,\\n                   ...  \n",
              "Glu   RandomizedSearchCV(cv=10,\\n                   ...  \n",
              "NH4   RandomizedSearchCV(cv=10,\\n                   ...  \n",
              "K     RandomizedSearchCV(cv=10,\\n                   ...  "
            ],
            "text/html": [
              "\n",
              "  <div id=\"df-16463808-4974-4b0e-8957-15fb33a7c213\">\n",
              "    <div class=\"colab-df-container\">\n",
              "      <div>\n",
              "<style scoped>\n",
              "    .dataframe tbody tr th:only-of-type {\n",
              "        vertical-align: middle;\n",
              "    }\n",
              "\n",
              "    .dataframe tbody tr th {\n",
              "        vertical-align: top;\n",
              "    }\n",
              "\n",
              "    .dataframe thead th {\n",
              "        text-align: right;\n",
              "    }\n",
              "</style>\n",
              "<table border=\"1\" class=\"dataframe\">\n",
              "  <thead>\n",
              "    <tr style=\"text-align: right;\">\n",
              "      <th></th>\n",
              "      <th>RMSE MLR</th>\n",
              "      <th>Prediction RSME</th>\n",
              "      <th>Prediction MAPE</th>\n",
              "      <th>Best alpha</th>\n",
              "      <th>Model</th>\n",
              "    </tr>\n",
              "  </thead>\n",
              "  <tbody>\n",
              "    <tr>\n",
              "      <th>Xv</th>\n",
              "      <td>0.954839</td>\n",
              "      <td>211129.172512</td>\n",
              "      <td>0.157974</td>\n",
              "      <td>{'Ridge__alpha': 7e-11, 'KBest__k': 201}</td>\n",
              "      <td>RandomizedSearchCV(cv=10,\\n                   ...</td>\n",
              "    </tr>\n",
              "    <tr>\n",
              "      <th>CV</th>\n",
              "      <td>0.896644</td>\n",
              "      <td>8.012931</td>\n",
              "      <td>0.248692</td>\n",
              "      <td>{'Ridge__alpha': 7e-11, 'KBest__k': 282}</td>\n",
              "      <td>RandomizedSearchCV(cv=10,\\n                   ...</td>\n",
              "    </tr>\n",
              "    <tr>\n",
              "      <th>Gluc</th>\n",
              "      <td>0.724985</td>\n",
              "      <td>0.314656</td>\n",
              "      <td>0.023714</td>\n",
              "      <td>{'Ridge__alpha': 8e-11, 'KBest__k': 300}</td>\n",
              "      <td>RandomizedSearchCV(cv=10,\\n                   ...</td>\n",
              "    </tr>\n",
              "    <tr>\n",
              "      <th>Lac</th>\n",
              "      <td>0.869412</td>\n",
              "      <td>0.005728</td>\n",
              "      <td>0.084206</td>\n",
              "      <td>{'Ridge__alpha': 8e-11, 'KBest__k': 300}</td>\n",
              "      <td>RandomizedSearchCV(cv=10,\\n                   ...</td>\n",
              "    </tr>\n",
              "    <tr>\n",
              "      <th>Gln</th>\n",
              "      <td>0.874343</td>\n",
              "      <td>0.086621</td>\n",
              "      <td>0.072081</td>\n",
              "      <td>{'Ridge__alpha': 7e-11, 'KBest__k': 288}</td>\n",
              "      <td>RandomizedSearchCV(cv=10,\\n                   ...</td>\n",
              "    </tr>\n",
              "    <tr>\n",
              "      <th>Glu</th>\n",
              "      <td>0.789783</td>\n",
              "      <td>0.078829</td>\n",
              "      <td>0.036228</td>\n",
              "      <td>{'Ridge__alpha': 7e-11, 'KBest__k': 291}</td>\n",
              "      <td>RandomizedSearchCV(cv=10,\\n                   ...</td>\n",
              "    </tr>\n",
              "    <tr>\n",
              "      <th>NH4</th>\n",
              "      <td>0.936467</td>\n",
              "      <td>0.00259</td>\n",
              "      <td>0.021946</td>\n",
              "      <td>{'Ridge__alpha': 7e-11, 'KBest__k': 291}</td>\n",
              "      <td>RandomizedSearchCV(cv=10,\\n                   ...</td>\n",
              "    </tr>\n",
              "    <tr>\n",
              "      <th>K</th>\n",
              "      <td>0.758392</td>\n",
              "      <td>0.013899</td>\n",
              "      <td>0.016775</td>\n",
              "      <td>{'Ridge__alpha': 7e-11, 'KBest__k': 300}</td>\n",
              "      <td>RandomizedSearchCV(cv=10,\\n                   ...</td>\n",
              "    </tr>\n",
              "  </tbody>\n",
              "</table>\n",
              "</div>\n",
              "      <button class=\"colab-df-convert\" onclick=\"convertToInteractive('df-16463808-4974-4b0e-8957-15fb33a7c213')\"\n",
              "              title=\"Convert this dataframe to an interactive table.\"\n",
              "              style=\"display:none;\">\n",
              "        \n",
              "  <svg xmlns=\"http://www.w3.org/2000/svg\" height=\"24px\"viewBox=\"0 0 24 24\"\n",
              "       width=\"24px\">\n",
              "    <path d=\"M0 0h24v24H0V0z\" fill=\"none\"/>\n",
              "    <path d=\"M18.56 5.44l.94 2.06.94-2.06 2.06-.94-2.06-.94-.94-2.06-.94 2.06-2.06.94zm-11 1L8.5 8.5l.94-2.06 2.06-.94-2.06-.94L8.5 2.5l-.94 2.06-2.06.94zm10 10l.94 2.06.94-2.06 2.06-.94-2.06-.94-.94-2.06-.94 2.06-2.06.94z\"/><path d=\"M17.41 7.96l-1.37-1.37c-.4-.4-.92-.59-1.43-.59-.52 0-1.04.2-1.43.59L10.3 9.45l-7.72 7.72c-.78.78-.78 2.05 0 2.83L4 21.41c.39.39.9.59 1.41.59.51 0 1.02-.2 1.41-.59l7.78-7.78 2.81-2.81c.8-.78.8-2.07 0-2.86zM5.41 20L4 18.59l7.72-7.72 1.47 1.35L5.41 20z\"/>\n",
              "  </svg>\n",
              "      </button>\n",
              "      \n",
              "  <style>\n",
              "    .colab-df-container {\n",
              "      display:flex;\n",
              "      flex-wrap:wrap;\n",
              "      gap: 12px;\n",
              "    }\n",
              "\n",
              "    .colab-df-convert {\n",
              "      background-color: #E8F0FE;\n",
              "      border: none;\n",
              "      border-radius: 50%;\n",
              "      cursor: pointer;\n",
              "      display: none;\n",
              "      fill: #1967D2;\n",
              "      height: 32px;\n",
              "      padding: 0 0 0 0;\n",
              "      width: 32px;\n",
              "    }\n",
              "\n",
              "    .colab-df-convert:hover {\n",
              "      background-color: #E2EBFA;\n",
              "      box-shadow: 0px 1px 2px rgba(60, 64, 67, 0.3), 0px 1px 3px 1px rgba(60, 64, 67, 0.15);\n",
              "      fill: #174EA6;\n",
              "    }\n",
              "\n",
              "    [theme=dark] .colab-df-convert {\n",
              "      background-color: #3B4455;\n",
              "      fill: #D2E3FC;\n",
              "    }\n",
              "\n",
              "    [theme=dark] .colab-df-convert:hover {\n",
              "      background-color: #434B5C;\n",
              "      box-shadow: 0px 1px 3px 1px rgba(0, 0, 0, 0.15);\n",
              "      filter: drop-shadow(0px 1px 2px rgba(0, 0, 0, 0.3));\n",
              "      fill: #FFFFFF;\n",
              "    }\n",
              "  </style>\n",
              "\n",
              "      <script>\n",
              "        const buttonEl =\n",
              "          document.querySelector('#df-16463808-4974-4b0e-8957-15fb33a7c213 button.colab-df-convert');\n",
              "        buttonEl.style.display =\n",
              "          google.colab.kernel.accessAllowed ? 'block' : 'none';\n",
              "\n",
              "        async function convertToInteractive(key) {\n",
              "          const element = document.querySelector('#df-16463808-4974-4b0e-8957-15fb33a7c213');\n",
              "          const dataTable =\n",
              "            await google.colab.kernel.invokeFunction('convertToInteractive',\n",
              "                                                     [key], {});\n",
              "          if (!dataTable) return;\n",
              "\n",
              "          const docLinkHtml = 'Like what you see? Visit the ' +\n",
              "            '<a target=\"_blank\" href=https://colab.research.google.com/notebooks/data_table.ipynb>data table notebook</a>'\n",
              "            + ' to learn more about interactive tables.';\n",
              "          element.innerHTML = '';\n",
              "          dataTable['output_type'] = 'display_data';\n",
              "          await google.colab.output.renderOutput(dataTable, element);\n",
              "          const docLink = document.createElement('div');\n",
              "          docLink.innerHTML = docLinkHtml;\n",
              "          element.appendChild(docLink);\n",
              "        }\n",
              "      </script>\n",
              "    </div>\n",
              "  </div>\n",
              "  "
            ]
          },
          "metadata": {},
          "execution_count": 55
        }
      ]
    },
    {
      "cell_type": "markdown",
      "metadata": {
        "id": "fa2VgEz5vmdo"
      },
      "source": [
        "### PCR"
      ]
    },
    {
      "cell_type": "code",
      "execution_count": 6,
      "metadata": {
        "colab": {
          "base_uri": "https://localhost:8080/"
        },
        "id": "m_m0oaYEvmdp",
        "outputId": "f38aa23f-2e46-4981-9d59-85b732ca5013"
      },
      "outputs": [
        {
          "output_type": "stream",
          "name": "stdout",
          "text": [
            "Finished Xv, best model prediciton RSME = 739828.005644, MAPE = 208.22%\n",
            "Finished CV, best model prediciton RSME = 12.086770, MAPE = 46.32%\n",
            "Finished Gluc, best model prediciton RSME = 0.613642, MAPE = 4.90%\n",
            "Finished Lac, best model prediciton RSME = 0.013787, MAPE = 22.61%\n",
            "Finished Gln, best model prediciton RSME = 0.133748, MAPE = 12.07%\n",
            "Finished Glu, best model prediciton RSME = 0.150151, MAPE = 7.20%\n",
            "Finished NH4, best model prediciton RSME = 0.005017, MAPE = 4.38%\n",
            "Finished K, best model prediciton RSME = 0.031492, MAPE = 4.03%\n",
            "\n",
            "--> Finished /content/drive/MyDrive/TCC/Data/Data base of online spectra for samples with cells-VLP rabies.xlsx\n",
            "--> Saving results to as Best_models_raw_100_3425/Online_Best_PCR.pkl\n",
            "\n",
            "Finished Xv , best model prediciton RSME = 280965.569241, MAPE = 22.46%\n",
            "Finished CV , best model prediciton RSME = 4.520873, MAPE = 12.28%\n",
            "Finished Gluc, best model prediciton RSME = 0.246371, MAPE = 1.71%\n",
            "Finished Lac, best model prediciton RSME = 0.006337, MAPE = 7.60%\n",
            "Finished Gln, best model prediciton RSME = 0.071624, MAPE = 5.09%\n",
            "Finished Glu, best model prediciton RSME = 0.056868, MAPE = 2.80%\n",
            "Finished NH4, best model prediciton RSME = 0.002459, MAPE = 1.91%\n",
            "Finished K, best model prediciton RSME = 0.012139, MAPE = 1.44%\n",
            "\n",
            "--> Finished /content/drive/MyDrive/TCC/Data/Data base of online spectra (X 400-1850 cm-1) for samples with cells-VLP rabies.xlsx\n",
            "--> Saving results to as Best_models_400_1850/Online_Best_PCR.pkl\n",
            "\n",
            "Finished Xv , best model prediciton RSME = 262331.235007, MAPE = 20.29%\n",
            "Finished CV , best model prediciton RSME = 4.271992, MAPE = 9.73%\n",
            "Finished Gluc, best model prediciton RSME = 0.269256, MAPE = 2.01%\n",
            "Finished Lac, best model prediciton RSME = 0.005106, MAPE = 6.86%\n",
            "Finished Gln, best model prediciton RSME = 0.064191, MAPE = 4.74%\n",
            "Finished Glu, best model prediciton RSME = 0.052289, MAPE = 2.67%\n",
            "Finished NH4, best model prediciton RSME = 0.002505, MAPE = 2.02%\n",
            "Finished K, best model prediciton RSME = 0.012330, MAPE = 1.45%\n",
            "\n",
            "--> Finished /content/drive/MyDrive/TCC/Data/Data base of online spectra (X 2800-3425 cm-1) for samples with cells-VLP rabies.xlsx\n",
            "--> Saving results to as Best_models_2425_2800/Online_Best_PCR.pkl\n",
            "\n",
            "Finished Xv , best model prediciton RSME = 671632.464531, MAPE = 160.68%\n",
            "Finished CV , best model prediciton RSME = 13.079708, MAPE = 27.66%\n",
            "Finished Gluc, best model prediciton RSME = 0.715043, MAPE = 6.06%\n",
            "Finished Lac, best model prediciton RSME = 0.013927, MAPE = 27.56%\n",
            "Finished Gln, best model prediciton RSME = 0.248214, MAPE = 13.00%\n",
            "Finished Glu, best model prediciton RSME = 0.160355, MAPE = 7.40%\n",
            "Finished NH4, best model prediciton RSME = 0.005969, MAPE = 5.42%\n",
            "Finished K, best model prediciton RSME = 0.030291, MAPE = 4.16%\n",
            "\n",
            "--> Finished /content/drive/MyDrive/TCC/Data/Data base of offline spectra for samples with cells-VLP rabies.xlsx\n",
            "--> Saving results to as Best_models_raw_100_3425/Offline_Best_PCR.pkl\n",
            "\n"
          ]
        },
        {
          "output_type": "stream",
          "name": "stderr",
          "text": [
            "/usr/local/lib/python3.7/dist-packages/sklearn/utils/validation.py:1692: FutureWarning: Feature names only support names that are all strings. Got feature names with dtypes: ['float']. An error will be raised in 1.2.\n",
            "  FutureWarning,\n",
            "/usr/local/lib/python3.7/dist-packages/sklearn/utils/validation.py:1692: FutureWarning: Feature names only support names that are all strings. Got feature names with dtypes: ['float']. An error will be raised in 1.2.\n",
            "  FutureWarning,\n",
            "/usr/local/lib/python3.7/dist-packages/sklearn/utils/validation.py:1692: FutureWarning: Feature names only support names that are all strings. Got feature names with dtypes: ['float']. An error will be raised in 1.2.\n",
            "  FutureWarning,\n"
          ]
        },
        {
          "output_type": "stream",
          "name": "stdout",
          "text": [
            "Finished Xv , best model prediciton RSME = 220243.473097, MAPE = 13.23%\n"
          ]
        },
        {
          "output_type": "stream",
          "name": "stderr",
          "text": [
            "/usr/local/lib/python3.7/dist-packages/sklearn/utils/validation.py:1692: FutureWarning: Feature names only support names that are all strings. Got feature names with dtypes: ['float']. An error will be raised in 1.2.\n",
            "  FutureWarning,\n",
            "/usr/local/lib/python3.7/dist-packages/sklearn/utils/validation.py:1692: FutureWarning: Feature names only support names that are all strings. Got feature names with dtypes: ['float']. An error will be raised in 1.2.\n",
            "  FutureWarning,\n",
            "/usr/local/lib/python3.7/dist-packages/sklearn/utils/validation.py:1692: FutureWarning: Feature names only support names that are all strings. Got feature names with dtypes: ['float']. An error will be raised in 1.2.\n",
            "  FutureWarning,\n"
          ]
        },
        {
          "output_type": "stream",
          "name": "stdout",
          "text": [
            "Finished CV , best model prediciton RSME = 4.061974, MAPE = 11.34%\n"
          ]
        },
        {
          "output_type": "stream",
          "name": "stderr",
          "text": [
            "/usr/local/lib/python3.7/dist-packages/sklearn/utils/validation.py:1692: FutureWarning: Feature names only support names that are all strings. Got feature names with dtypes: ['float']. An error will be raised in 1.2.\n",
            "  FutureWarning,\n",
            "/usr/local/lib/python3.7/dist-packages/sklearn/utils/validation.py:1692: FutureWarning: Feature names only support names that are all strings. Got feature names with dtypes: ['float']. An error will be raised in 1.2.\n",
            "  FutureWarning,\n",
            "/usr/local/lib/python3.7/dist-packages/sklearn/utils/validation.py:1692: FutureWarning: Feature names only support names that are all strings. Got feature names with dtypes: ['float']. An error will be raised in 1.2.\n",
            "  FutureWarning,\n"
          ]
        },
        {
          "output_type": "stream",
          "name": "stdout",
          "text": [
            "Finished Gluc, best model prediciton RSME = 0.247364, MAPE = 1.97%\n"
          ]
        },
        {
          "output_type": "stream",
          "name": "stderr",
          "text": [
            "/usr/local/lib/python3.7/dist-packages/sklearn/utils/validation.py:1692: FutureWarning: Feature names only support names that are all strings. Got feature names with dtypes: ['float']. An error will be raised in 1.2.\n",
            "  FutureWarning,\n",
            "/usr/local/lib/python3.7/dist-packages/sklearn/utils/validation.py:1692: FutureWarning: Feature names only support names that are all strings. Got feature names with dtypes: ['float']. An error will be raised in 1.2.\n",
            "  FutureWarning,\n",
            "/usr/local/lib/python3.7/dist-packages/sklearn/utils/validation.py:1692: FutureWarning: Feature names only support names that are all strings. Got feature names with dtypes: ['float']. An error will be raised in 1.2.\n",
            "  FutureWarning,\n"
          ]
        },
        {
          "output_type": "stream",
          "name": "stdout",
          "text": [
            "Finished Lac, best model prediciton RSME = 0.005798, MAPE = 8.70%\n"
          ]
        },
        {
          "output_type": "stream",
          "name": "stderr",
          "text": [
            "/usr/local/lib/python3.7/dist-packages/sklearn/utils/validation.py:1692: FutureWarning: Feature names only support names that are all strings. Got feature names with dtypes: ['float']. An error will be raised in 1.2.\n",
            "  FutureWarning,\n",
            "/usr/local/lib/python3.7/dist-packages/sklearn/utils/validation.py:1692: FutureWarning: Feature names only support names that are all strings. Got feature names with dtypes: ['float']. An error will be raised in 1.2.\n",
            "  FutureWarning,\n",
            "/usr/local/lib/python3.7/dist-packages/sklearn/utils/validation.py:1692: FutureWarning: Feature names only support names that are all strings. Got feature names with dtypes: ['float']. An error will be raised in 1.2.\n",
            "  FutureWarning,\n"
          ]
        },
        {
          "output_type": "stream",
          "name": "stdout",
          "text": [
            "Finished Gln, best model prediciton RSME = 0.068197, MAPE = 5.29%\n"
          ]
        },
        {
          "output_type": "stream",
          "name": "stderr",
          "text": [
            "/usr/local/lib/python3.7/dist-packages/sklearn/utils/validation.py:1692: FutureWarning: Feature names only support names that are all strings. Got feature names with dtypes: ['float']. An error will be raised in 1.2.\n",
            "  FutureWarning,\n",
            "/usr/local/lib/python3.7/dist-packages/sklearn/utils/validation.py:1692: FutureWarning: Feature names only support names that are all strings. Got feature names with dtypes: ['float']. An error will be raised in 1.2.\n",
            "  FutureWarning,\n",
            "/usr/local/lib/python3.7/dist-packages/sklearn/utils/validation.py:1692: FutureWarning: Feature names only support names that are all strings. Got feature names with dtypes: ['float']. An error will be raised in 1.2.\n",
            "  FutureWarning,\n"
          ]
        },
        {
          "output_type": "stream",
          "name": "stdout",
          "text": [
            "Finished Glu, best model prediciton RSME = 0.055055, MAPE = 2.74%\n"
          ]
        },
        {
          "output_type": "stream",
          "name": "stderr",
          "text": [
            "/usr/local/lib/python3.7/dist-packages/sklearn/utils/validation.py:1692: FutureWarning: Feature names only support names that are all strings. Got feature names with dtypes: ['float']. An error will be raised in 1.2.\n",
            "  FutureWarning,\n",
            "/usr/local/lib/python3.7/dist-packages/sklearn/utils/validation.py:1692: FutureWarning: Feature names only support names that are all strings. Got feature names with dtypes: ['float']. An error will be raised in 1.2.\n",
            "  FutureWarning,\n",
            "/usr/local/lib/python3.7/dist-packages/sklearn/utils/validation.py:1692: FutureWarning: Feature names only support names that are all strings. Got feature names with dtypes: ['float']. An error will be raised in 1.2.\n",
            "  FutureWarning,\n"
          ]
        },
        {
          "output_type": "stream",
          "name": "stdout",
          "text": [
            "Finished NH4, best model prediciton RSME = 0.002167, MAPE = 1.86%\n"
          ]
        },
        {
          "output_type": "stream",
          "name": "stderr",
          "text": [
            "/usr/local/lib/python3.7/dist-packages/sklearn/utils/validation.py:1692: FutureWarning: Feature names only support names that are all strings. Got feature names with dtypes: ['float']. An error will be raised in 1.2.\n",
            "  FutureWarning,\n",
            "/usr/local/lib/python3.7/dist-packages/sklearn/utils/validation.py:1692: FutureWarning: Feature names only support names that are all strings. Got feature names with dtypes: ['float']. An error will be raised in 1.2.\n",
            "  FutureWarning,\n",
            "/usr/local/lib/python3.7/dist-packages/sklearn/utils/validation.py:1692: FutureWarning: Feature names only support names that are all strings. Got feature names with dtypes: ['float']. An error will be raised in 1.2.\n",
            "  FutureWarning,\n"
          ]
        },
        {
          "output_type": "stream",
          "name": "stdout",
          "text": [
            "Finished K, best model prediciton RSME = 0.012699, MAPE = 1.55%\n",
            "\n",
            "--> Finished /content/drive/MyDrive/TCC/Data/Data base of offline spectra (X 400-1850 cm-1) for samples with cells-VLP rabies.xlsx\n",
            "--> Saving results to as Best_models_400_1850/Offline_Best_PCR.pkl\n",
            "\n"
          ]
        },
        {
          "output_type": "stream",
          "name": "stderr",
          "text": [
            "/usr/local/lib/python3.7/dist-packages/sklearn/utils/validation.py:1692: FutureWarning: Feature names only support names that are all strings. Got feature names with dtypes: ['float']. An error will be raised in 1.2.\n",
            "  FutureWarning,\n",
            "/usr/local/lib/python3.7/dist-packages/sklearn/utils/validation.py:1692: FutureWarning: Feature names only support names that are all strings. Got feature names with dtypes: ['float']. An error will be raised in 1.2.\n",
            "  FutureWarning,\n",
            "/usr/local/lib/python3.7/dist-packages/sklearn/utils/validation.py:1692: FutureWarning: Feature names only support names that are all strings. Got feature names with dtypes: ['float']. An error will be raised in 1.2.\n",
            "  FutureWarning,\n"
          ]
        },
        {
          "output_type": "stream",
          "name": "stdout",
          "text": [
            "Finished Xv , best model prediciton RSME = 246837.033613, MAPE = 17.95%\n"
          ]
        },
        {
          "output_type": "stream",
          "name": "stderr",
          "text": [
            "/usr/local/lib/python3.7/dist-packages/sklearn/utils/validation.py:1692: FutureWarning: Feature names only support names that are all strings. Got feature names with dtypes: ['float']. An error will be raised in 1.2.\n",
            "  FutureWarning,\n",
            "/usr/local/lib/python3.7/dist-packages/sklearn/utils/validation.py:1692: FutureWarning: Feature names only support names that are all strings. Got feature names with dtypes: ['float']. An error will be raised in 1.2.\n",
            "  FutureWarning,\n",
            "/usr/local/lib/python3.7/dist-packages/sklearn/utils/validation.py:1692: FutureWarning: Feature names only support names that are all strings. Got feature names with dtypes: ['float']. An error will be raised in 1.2.\n",
            "  FutureWarning,\n"
          ]
        },
        {
          "output_type": "stream",
          "name": "stdout",
          "text": [
            "Finished CV , best model prediciton RSME = 4.409886, MAPE = 13.08%\n"
          ]
        },
        {
          "output_type": "stream",
          "name": "stderr",
          "text": [
            "/usr/local/lib/python3.7/dist-packages/sklearn/utils/validation.py:1692: FutureWarning: Feature names only support names that are all strings. Got feature names with dtypes: ['float']. An error will be raised in 1.2.\n",
            "  FutureWarning,\n",
            "/usr/local/lib/python3.7/dist-packages/sklearn/utils/validation.py:1692: FutureWarning: Feature names only support names that are all strings. Got feature names with dtypes: ['float']. An error will be raised in 1.2.\n",
            "  FutureWarning,\n",
            "/usr/local/lib/python3.7/dist-packages/sklearn/utils/validation.py:1692: FutureWarning: Feature names only support names that are all strings. Got feature names with dtypes: ['float']. An error will be raised in 1.2.\n",
            "  FutureWarning,\n"
          ]
        },
        {
          "output_type": "stream",
          "name": "stdout",
          "text": [
            "Finished Gluc, best model prediciton RSME = 0.249300, MAPE = 2.00%\n"
          ]
        },
        {
          "output_type": "stream",
          "name": "stderr",
          "text": [
            "/usr/local/lib/python3.7/dist-packages/sklearn/utils/validation.py:1692: FutureWarning: Feature names only support names that are all strings. Got feature names with dtypes: ['float']. An error will be raised in 1.2.\n",
            "  FutureWarning,\n",
            "/usr/local/lib/python3.7/dist-packages/sklearn/utils/validation.py:1692: FutureWarning: Feature names only support names that are all strings. Got feature names with dtypes: ['float']. An error will be raised in 1.2.\n",
            "  FutureWarning,\n",
            "/usr/local/lib/python3.7/dist-packages/sklearn/utils/validation.py:1692: FutureWarning: Feature names only support names that are all strings. Got feature names with dtypes: ['float']. An error will be raised in 1.2.\n",
            "  FutureWarning,\n"
          ]
        },
        {
          "output_type": "stream",
          "name": "stdout",
          "text": [
            "Finished Lac, best model prediciton RSME = 0.005689, MAPE = 7.68%\n"
          ]
        },
        {
          "output_type": "stream",
          "name": "stderr",
          "text": [
            "/usr/local/lib/python3.7/dist-packages/sklearn/utils/validation.py:1692: FutureWarning: Feature names only support names that are all strings. Got feature names with dtypes: ['float']. An error will be raised in 1.2.\n",
            "  FutureWarning,\n",
            "/usr/local/lib/python3.7/dist-packages/sklearn/utils/validation.py:1692: FutureWarning: Feature names only support names that are all strings. Got feature names with dtypes: ['float']. An error will be raised in 1.2.\n",
            "  FutureWarning,\n",
            "/usr/local/lib/python3.7/dist-packages/sklearn/utils/validation.py:1692: FutureWarning: Feature names only support names that are all strings. Got feature names with dtypes: ['float']. An error will be raised in 1.2.\n",
            "  FutureWarning,\n"
          ]
        },
        {
          "output_type": "stream",
          "name": "stdout",
          "text": [
            "Finished Gln, best model prediciton RSME = 0.066124, MAPE = 4.70%\n"
          ]
        },
        {
          "output_type": "stream",
          "name": "stderr",
          "text": [
            "/usr/local/lib/python3.7/dist-packages/sklearn/utils/validation.py:1692: FutureWarning: Feature names only support names that are all strings. Got feature names with dtypes: ['float']. An error will be raised in 1.2.\n",
            "  FutureWarning,\n",
            "/usr/local/lib/python3.7/dist-packages/sklearn/utils/validation.py:1692: FutureWarning: Feature names only support names that are all strings. Got feature names with dtypes: ['float']. An error will be raised in 1.2.\n",
            "  FutureWarning,\n",
            "/usr/local/lib/python3.7/dist-packages/sklearn/utils/validation.py:1692: FutureWarning: Feature names only support names that are all strings. Got feature names with dtypes: ['float']. An error will be raised in 1.2.\n",
            "  FutureWarning,\n"
          ]
        },
        {
          "output_type": "stream",
          "name": "stdout",
          "text": [
            "Finished Glu, best model prediciton RSME = 0.055867, MAPE = 2.80%\n"
          ]
        },
        {
          "output_type": "stream",
          "name": "stderr",
          "text": [
            "/usr/local/lib/python3.7/dist-packages/sklearn/utils/validation.py:1692: FutureWarning: Feature names only support names that are all strings. Got feature names with dtypes: ['float']. An error will be raised in 1.2.\n",
            "  FutureWarning,\n",
            "/usr/local/lib/python3.7/dist-packages/sklearn/utils/validation.py:1692: FutureWarning: Feature names only support names that are all strings. Got feature names with dtypes: ['float']. An error will be raised in 1.2.\n",
            "  FutureWarning,\n",
            "/usr/local/lib/python3.7/dist-packages/sklearn/utils/validation.py:1692: FutureWarning: Feature names only support names that are all strings. Got feature names with dtypes: ['float']. An error will be raised in 1.2.\n",
            "  FutureWarning,\n"
          ]
        },
        {
          "output_type": "stream",
          "name": "stdout",
          "text": [
            "Finished NH4, best model prediciton RSME = 0.002125, MAPE = 1.73%\n"
          ]
        },
        {
          "output_type": "stream",
          "name": "stderr",
          "text": [
            "/usr/local/lib/python3.7/dist-packages/sklearn/utils/validation.py:1692: FutureWarning: Feature names only support names that are all strings. Got feature names with dtypes: ['float']. An error will be raised in 1.2.\n",
            "  FutureWarning,\n",
            "/usr/local/lib/python3.7/dist-packages/sklearn/utils/validation.py:1692: FutureWarning: Feature names only support names that are all strings. Got feature names with dtypes: ['float']. An error will be raised in 1.2.\n",
            "  FutureWarning,\n",
            "/usr/local/lib/python3.7/dist-packages/sklearn/utils/validation.py:1692: FutureWarning: Feature names only support names that are all strings. Got feature names with dtypes: ['float']. An error will be raised in 1.2.\n",
            "  FutureWarning,\n"
          ]
        },
        {
          "output_type": "stream",
          "name": "stdout",
          "text": [
            "Finished K, best model prediciton RSME = 0.011980, MAPE = 1.48%\n",
            "\n",
            "--> Finished /content/drive/MyDrive/TCC/Data/Data base of offline spectra (X 2800-3425 cm-1) for samples with cells-VLP rabies.xlsx\n",
            "--> Saving results to as Best_models_2425_2800/Offline_Best_PCR.pkl\n",
            "\n"
          ]
        }
      ],
      "source": [
        "spectral_data = {\"online\": \n",
        "                      {\"/content/drive/MyDrive/TCC/Data/Data base of online spectra for samples with cells-VLP rabies.xlsx\": [False, \"Best_models_raw_100_3425/Online_Best_PCR.pkl\"],\n",
        "                      \"/content/drive/MyDrive/TCC/Data/Data base of online spectra (X 400-1850 cm-1) for samples with cells-VLP rabies.xlsx\": [True, \"Best_models_400_1850/Online_Best_PCR.pkl\"],\n",
        "                      \"/content/drive/MyDrive/TCC/Data/Data base of online spectra (X 2800-3425 cm-1) for samples with cells-VLP rabies.xlsx\": [True, \"Best_models_2425_2800/Online_Best_PCR.pkl\"]},\n",
        "                 \"offline\":\n",
        "                      {\"/content/drive/MyDrive/TCC/Data/Data base of offline spectra for samples with cells-VLP rabies.xlsx\": [False, \"Best_models_raw_100_3425/Offline_Best_PCR.pkl\"],\n",
        "                      \"/content/drive/MyDrive/TCC/Data/Data base of offline spectra (X 400-1850 cm-1) for samples with cells-VLP rabies.xlsx\": [True, \"Best_models_400_1850/Offline_Best_PCR.pkl\"],\n",
        "                      \"/content/drive/MyDrive/TCC/Data/Data base of offline spectra (X 2800-3425 cm-1) for samples with cells-VLP rabies.xlsx\": [True, \"Best_models_2425_2800/Offline_Best_PCR.pkl\"]}\n",
        "                 }\n",
        "\n",
        "for data_type, data_path_dict in spectral_data.items():\n",
        "  for path, configs in data_path_dict.items():\n",
        "\n",
        "    X = pd.read_excel(path, sheet_name='X data')\n",
        "    y = pd.read_excel(path, sheet_name='Y data')\n",
        "\n",
        "    X.set_index('Raman shift', inplace = True)\n",
        "    y.set_index('Sample', inplace = True)\n",
        "\n",
        "    if configs[0]:\n",
        "      X_c = X.copy()\n",
        "      X_smoothed = X_c.apply(savgol_filter, args=(15, 1))\n",
        "      X_smoothed_baseline = X_smoothed.apply(baseline_als, args=(1000000, 0.1))\n",
        "    else:\n",
        "      X_smoothed_baseline = X\n",
        "\n",
        "    results_PCA = {}\n",
        "\n",
        "    for column in y:\n",
        "\n",
        "        target = y[column]\n",
        "\n",
        "        X_train, X_test, y_train, y_test = train_test_split(X_smoothed_baseline, target, test_size=0.2, random_state=123, stratify=target)\n",
        "        standard_S = StandardScaler()\n",
        "        X_train_S = standard_S.fit_transform(X_train)\n",
        "        X_test_S = standard_S.transform(X_test)\n",
        "\n",
        "        parameters_PCA = {'PCA__n_components':list(range(10, 270, 10))} \n",
        "        pca_pipe = PCA(random_state=123)\n",
        "        lin_reg_pipe = LinearRegression()\n",
        "\n",
        "        pipe_PCA = Pipeline(steps=[('PCA', pca_pipe),\n",
        "                                    ('lin_reg_pipe', lin_reg_pipe)\n",
        "                                    ])\n",
        "        \n",
        "        grid_PCA = GridSearchCV(pipe_PCA, parameters_PCA, scoring='neg_root_mean_squared_error', cv=10)\n",
        "        grid_PCA.fit(X_train_S, y_train)\n",
        "        prediction = grid_PCA.predict(X_test_S)\n",
        "        prediction_rmse = np.sqrt(mean_squared_error(y_test, prediction))\n",
        "        prediction_mape = mean_absolute_percentage_error(y_test, prediction)\n",
        "\n",
        "        results_PCA[column] = [grid_PCA.best_score_, prediction_rmse, prediction_mape, grid_PCA.best_params_, grid_PCA]\n",
        "        print(f'Finished {column}, best model prediciton RSME = {prediction_rmse:.6f}, MAPE = {prediction_mape:.2%}')\n",
        "\n",
        "    \n",
        "    print(f\"\\n--> Finished {path}\", f\"--> Saving results to as {configs[1]}\\n\", sep=\"\\n\")\n",
        "    \n",
        "    joblib.dump(results_PCA, f\"/content/drive/MyDrive/TCC/Trained models/{configs[1]}\")"
      ]
    },
    {
      "cell_type": "code",
      "execution_count": 7,
      "metadata": {
        "id": "t5b-bMcDiRAK",
        "colab": {
          "base_uri": "https://localhost:8080/",
          "height": 300
        },
        "outputId": "27657144-0615-4f96-8ec4-a7ec25290939"
      },
      "outputs": [
        {
          "output_type": "execute_result",
          "data": {
            "text/plain": [
              "          RMSE_PCA Prediction RMSE Prediciton MAPE  \\\n",
              "Xv   -338054.25314   246837.033613        0.179542   \n",
              "CV       -7.079799        4.409886        0.130806   \n",
              "Gluc     -0.360789          0.2493        0.020042   \n",
              "Lac      -0.006714        0.005689         0.07678   \n",
              "Gln      -0.096528        0.066124         0.04703   \n",
              "Glu       -0.07248        0.055867        0.027996   \n",
              "NH4       -0.00276        0.002125         0.01734   \n",
              "K        -0.015388         0.01198        0.014837   \n",
              "\n",
              "                   Number of PCs  \\\n",
              "Xv    {'PCA__n_components': 140}   \n",
              "CV    {'PCA__n_components': 100}   \n",
              "Gluc  {'PCA__n_components': 100}   \n",
              "Lac   {'PCA__n_components': 100}   \n",
              "Gln   {'PCA__n_components': 100}   \n",
              "Glu   {'PCA__n_components': 110}   \n",
              "NH4   {'PCA__n_components': 110}   \n",
              "K     {'PCA__n_components': 110}   \n",
              "\n",
              "                                             Best model  \n",
              "Xv    GridSearchCV(cv=10,\\n             estimator=Pi...  \n",
              "CV    GridSearchCV(cv=10,\\n             estimator=Pi...  \n",
              "Gluc  GridSearchCV(cv=10,\\n             estimator=Pi...  \n",
              "Lac   GridSearchCV(cv=10,\\n             estimator=Pi...  \n",
              "Gln   GridSearchCV(cv=10,\\n             estimator=Pi...  \n",
              "Glu   GridSearchCV(cv=10,\\n             estimator=Pi...  \n",
              "NH4   GridSearchCV(cv=10,\\n             estimator=Pi...  \n",
              "K     GridSearchCV(cv=10,\\n             estimator=Pi...  "
            ],
            "text/html": [
              "\n",
              "  <div id=\"df-b73c80de-9454-4209-b02f-792a822f6f08\">\n",
              "    <div class=\"colab-df-container\">\n",
              "      <div>\n",
              "<style scoped>\n",
              "    .dataframe tbody tr th:only-of-type {\n",
              "        vertical-align: middle;\n",
              "    }\n",
              "\n",
              "    .dataframe tbody tr th {\n",
              "        vertical-align: top;\n",
              "    }\n",
              "\n",
              "    .dataframe thead th {\n",
              "        text-align: right;\n",
              "    }\n",
              "</style>\n",
              "<table border=\"1\" class=\"dataframe\">\n",
              "  <thead>\n",
              "    <tr style=\"text-align: right;\">\n",
              "      <th></th>\n",
              "      <th>RMSE_PCA</th>\n",
              "      <th>Prediction RMSE</th>\n",
              "      <th>Prediciton MAPE</th>\n",
              "      <th>Number of PCs</th>\n",
              "      <th>Best model</th>\n",
              "    </tr>\n",
              "  </thead>\n",
              "  <tbody>\n",
              "    <tr>\n",
              "      <th>Xv</th>\n",
              "      <td>-338054.25314</td>\n",
              "      <td>246837.033613</td>\n",
              "      <td>0.179542</td>\n",
              "      <td>{'PCA__n_components': 140}</td>\n",
              "      <td>GridSearchCV(cv=10,\\n             estimator=Pi...</td>\n",
              "    </tr>\n",
              "    <tr>\n",
              "      <th>CV</th>\n",
              "      <td>-7.079799</td>\n",
              "      <td>4.409886</td>\n",
              "      <td>0.130806</td>\n",
              "      <td>{'PCA__n_components': 100}</td>\n",
              "      <td>GridSearchCV(cv=10,\\n             estimator=Pi...</td>\n",
              "    </tr>\n",
              "    <tr>\n",
              "      <th>Gluc</th>\n",
              "      <td>-0.360789</td>\n",
              "      <td>0.2493</td>\n",
              "      <td>0.020042</td>\n",
              "      <td>{'PCA__n_components': 100}</td>\n",
              "      <td>GridSearchCV(cv=10,\\n             estimator=Pi...</td>\n",
              "    </tr>\n",
              "    <tr>\n",
              "      <th>Lac</th>\n",
              "      <td>-0.006714</td>\n",
              "      <td>0.005689</td>\n",
              "      <td>0.07678</td>\n",
              "      <td>{'PCA__n_components': 100}</td>\n",
              "      <td>GridSearchCV(cv=10,\\n             estimator=Pi...</td>\n",
              "    </tr>\n",
              "    <tr>\n",
              "      <th>Gln</th>\n",
              "      <td>-0.096528</td>\n",
              "      <td>0.066124</td>\n",
              "      <td>0.04703</td>\n",
              "      <td>{'PCA__n_components': 100}</td>\n",
              "      <td>GridSearchCV(cv=10,\\n             estimator=Pi...</td>\n",
              "    </tr>\n",
              "    <tr>\n",
              "      <th>Glu</th>\n",
              "      <td>-0.07248</td>\n",
              "      <td>0.055867</td>\n",
              "      <td>0.027996</td>\n",
              "      <td>{'PCA__n_components': 110}</td>\n",
              "      <td>GridSearchCV(cv=10,\\n             estimator=Pi...</td>\n",
              "    </tr>\n",
              "    <tr>\n",
              "      <th>NH4</th>\n",
              "      <td>-0.00276</td>\n",
              "      <td>0.002125</td>\n",
              "      <td>0.01734</td>\n",
              "      <td>{'PCA__n_components': 110}</td>\n",
              "      <td>GridSearchCV(cv=10,\\n             estimator=Pi...</td>\n",
              "    </tr>\n",
              "    <tr>\n",
              "      <th>K</th>\n",
              "      <td>-0.015388</td>\n",
              "      <td>0.01198</td>\n",
              "      <td>0.014837</td>\n",
              "      <td>{'PCA__n_components': 110}</td>\n",
              "      <td>GridSearchCV(cv=10,\\n             estimator=Pi...</td>\n",
              "    </tr>\n",
              "  </tbody>\n",
              "</table>\n",
              "</div>\n",
              "      <button class=\"colab-df-convert\" onclick=\"convertToInteractive('df-b73c80de-9454-4209-b02f-792a822f6f08')\"\n",
              "              title=\"Convert this dataframe to an interactive table.\"\n",
              "              style=\"display:none;\">\n",
              "        \n",
              "  <svg xmlns=\"http://www.w3.org/2000/svg\" height=\"24px\"viewBox=\"0 0 24 24\"\n",
              "       width=\"24px\">\n",
              "    <path d=\"M0 0h24v24H0V0z\" fill=\"none\"/>\n",
              "    <path d=\"M18.56 5.44l.94 2.06.94-2.06 2.06-.94-2.06-.94-.94-2.06-.94 2.06-2.06.94zm-11 1L8.5 8.5l.94-2.06 2.06-.94-2.06-.94L8.5 2.5l-.94 2.06-2.06.94zm10 10l.94 2.06.94-2.06 2.06-.94-2.06-.94-.94-2.06-.94 2.06-2.06.94z\"/><path d=\"M17.41 7.96l-1.37-1.37c-.4-.4-.92-.59-1.43-.59-.52 0-1.04.2-1.43.59L10.3 9.45l-7.72 7.72c-.78.78-.78 2.05 0 2.83L4 21.41c.39.39.9.59 1.41.59.51 0 1.02-.2 1.41-.59l7.78-7.78 2.81-2.81c.8-.78.8-2.07 0-2.86zM5.41 20L4 18.59l7.72-7.72 1.47 1.35L5.41 20z\"/>\n",
              "  </svg>\n",
              "      </button>\n",
              "      \n",
              "  <style>\n",
              "    .colab-df-container {\n",
              "      display:flex;\n",
              "      flex-wrap:wrap;\n",
              "      gap: 12px;\n",
              "    }\n",
              "\n",
              "    .colab-df-convert {\n",
              "      background-color: #E8F0FE;\n",
              "      border: none;\n",
              "      border-radius: 50%;\n",
              "      cursor: pointer;\n",
              "      display: none;\n",
              "      fill: #1967D2;\n",
              "      height: 32px;\n",
              "      padding: 0 0 0 0;\n",
              "      width: 32px;\n",
              "    }\n",
              "\n",
              "    .colab-df-convert:hover {\n",
              "      background-color: #E2EBFA;\n",
              "      box-shadow: 0px 1px 2px rgba(60, 64, 67, 0.3), 0px 1px 3px 1px rgba(60, 64, 67, 0.15);\n",
              "      fill: #174EA6;\n",
              "    }\n",
              "\n",
              "    [theme=dark] .colab-df-convert {\n",
              "      background-color: #3B4455;\n",
              "      fill: #D2E3FC;\n",
              "    }\n",
              "\n",
              "    [theme=dark] .colab-df-convert:hover {\n",
              "      background-color: #434B5C;\n",
              "      box-shadow: 0px 1px 3px 1px rgba(0, 0, 0, 0.15);\n",
              "      filter: drop-shadow(0px 1px 2px rgba(0, 0, 0, 0.3));\n",
              "      fill: #FFFFFF;\n",
              "    }\n",
              "  </style>\n",
              "\n",
              "      <script>\n",
              "        const buttonEl =\n",
              "          document.querySelector('#df-b73c80de-9454-4209-b02f-792a822f6f08 button.colab-df-convert');\n",
              "        buttonEl.style.display =\n",
              "          google.colab.kernel.accessAllowed ? 'block' : 'none';\n",
              "\n",
              "        async function convertToInteractive(key) {\n",
              "          const element = document.querySelector('#df-b73c80de-9454-4209-b02f-792a822f6f08');\n",
              "          const dataTable =\n",
              "            await google.colab.kernel.invokeFunction('convertToInteractive',\n",
              "                                                     [key], {});\n",
              "          if (!dataTable) return;\n",
              "\n",
              "          const docLinkHtml = 'Like what you see? Visit the ' +\n",
              "            '<a target=\"_blank\" href=https://colab.research.google.com/notebooks/data_table.ipynb>data table notebook</a>'\n",
              "            + ' to learn more about interactive tables.';\n",
              "          element.innerHTML = '';\n",
              "          dataTable['output_type'] = 'display_data';\n",
              "          await google.colab.output.renderOutput(dataTable, element);\n",
              "          const docLink = document.createElement('div');\n",
              "          docLink.innerHTML = docLinkHtml;\n",
              "          element.appendChild(docLink);\n",
              "        }\n",
              "      </script>\n",
              "    </div>\n",
              "  </div>\n",
              "  "
            ]
          },
          "metadata": {},
          "execution_count": 7
        }
      ],
      "source": [
        "PCA_results = pd.DataFrame(results_PCA, index=['RMSE_PCA', 'Prediction RMSE', 'Prediciton MAPE', 'Number of PCs', 'Best model']).T\n",
        "PCA_results"
      ]
    },
    {
      "cell_type": "markdown",
      "source": [
        "### PLS"
      ],
      "metadata": {
        "id": "GOVmNZRIBx4Q"
      }
    },
    {
      "cell_type": "code",
      "source": [
        "spectral_data = {\"online\": \n",
        "                      {\"/content/drive/MyDrive/TCC/Data/Data base of online spectra for samples with cells-VLP rabies.xlsx\": [False, \"Best_models_raw_100_3425/Online_Best_PLS.pkl\"],\n",
        "                      \"/content/drive/MyDrive/TCC/Data/Data base of online spectra (X 400-1850 cm-1) for samples with cells-VLP rabies.xlsx\": [True, \"Best_models_400_1850/Online_Best_PLS.pkl\"],\n",
        "                      \"/content/drive/MyDrive/TCC/Data/Data base of online spectra (X 2800-3425 cm-1) for samples with cells-VLP rabies.xlsx\": [True, \"Best_models_2425_2800/Online_Best_PLS.pkl\"]},\n",
        "                 \"offline\":\n",
        "                      {\"/content/drive/MyDrive/TCC/Data/Data base of offline spectra for samples with cells-VLP rabies.xlsx\": [False, \"Best_models_raw_100_3425/Offline_Best_PLS.pkl\"],\n",
        "                      \"/content/drive/MyDrive/TCC/Data/Data base of offline spectra (X 400-1850 cm-1) for samples with cells-VLP rabies.xlsx\": [True, \"Best_models_400_1850/Offline_Best_PLS.pkl\"],\n",
        "                      \"/content/drive/MyDrive/TCC/Data/Data base of offline spectra (X 2800-3425 cm-1) for samples with cells-VLP rabies.xlsx\": [True, \"Best_models_2425_2800/Offline_Best_PLS.pkl\"]}\n",
        "                 }\n",
        "\n",
        "for data_type, data_path_dict in spectral_data.items():\n",
        "  for path, configs in data_path_dict.items():\n",
        "\n",
        "    X = pd.read_excel(path, sheet_name='X data')\n",
        "    y = pd.read_excel(path, sheet_name='Y data')\n",
        "\n",
        "    X.set_index('Raman shift', inplace = True)\n",
        "    y.set_index('Sample', inplace = True)\n",
        "\n",
        "    if configs[0]:\n",
        "      X_c = X.copy()\n",
        "      X_smoothed = X_c.apply(savgol_filter, args=(15, 1))\n",
        "      X_smoothed_baseline = X_smoothed.apply(baseline_als, args=(1000000, 0.1))\n",
        "    else:\n",
        "      X_smoothed_baseline = X\n",
        "\n",
        "    results_PLS = {}\n",
        "\n",
        "    for column in y:\n",
        "\n",
        "        target = y[column]\n",
        "\n",
        "        X_train, X_test, y_train, y_test = train_test_split(X_smoothed_baseline, target, test_size=0.2, random_state=69420)\n",
        "        standard_S = StandardScaler()\n",
        "        X_train_S = standard_S.fit_transform(X_train)\n",
        "        X_test_S = standard_S.transform(X_test)\n",
        "\n",
        "        parameters_PLS = {'n_components': list(range(15, 82, 3))}\n",
        "        pls = PLSRegression()\n",
        "\n",
        "        grid_PLS = GridSearchCV(pls, parameters_PLS, scoring='explained_variance', cv=10, n_jobs=-1)\n",
        "        grid_PLS.fit(X_train_S, y_train)\n",
        "\n",
        "        prediction = grid_PLS.predict(X_test_S)\n",
        "        prediction_rmse = np.sqrt(mean_squared_error(y_test, prediction))\n",
        "        prediction_mape = mean_absolute_percentage_error(y_test, prediction)\n",
        "\n",
        "        results_PLS[column] = [grid_PLS.best_score_, prediction_rmse, prediction_mape, grid_PLS.best_params_, grid_PLS]\n",
        "        print(f'Finished {column}, best model prediciton RSME = {prediction_rmse:.6f}, MAPE = {prediction_mape:.2%}')\n",
        "\n",
        "    print(f\"\\n--> Finished {path}\", f\"--> Saving results to as {configs[1]}\\n\", sep=\"\\n\")\n",
        "    \n",
        "    joblib.dump(results_PLS, f\"/content/drive/MyDrive/TCC/Trained models/{configs[1]}\")"
      ],
      "metadata": {
        "colab": {
          "base_uri": "https://localhost:8080/"
        },
        "id": "fsdaMP7OB1mf",
        "outputId": "53edb3de-707f-4877-8caf-e66e3b77a4d6"
      },
      "execution_count": 8,
      "outputs": [
        {
          "output_type": "stream",
          "name": "stdout",
          "text": [
            "Finished Xv, best model prediciton RSME = 673589.283072, MAPE = 128.54%\n",
            "Finished CV, best model prediciton RSME = 11.768978, MAPE = 24.28%\n",
            "Finished Gluc, best model prediciton RSME = 0.664516, MAPE = 5.53%\n",
            "Finished Lac, best model prediciton RSME = 0.011468, MAPE = 21.98%\n",
            "Finished Gln, best model prediciton RSME = 0.135351, MAPE = 11.67%\n",
            "Finished Glu, best model prediciton RSME = 0.138775, MAPE = 7.64%\n",
            "Finished NH4, best model prediciton RSME = 0.005367, MAPE = 5.05%\n",
            "Finished K, best model prediciton RSME = 0.036700, MAPE = 4.67%\n",
            "\n",
            "--> Finished /content/drive/MyDrive/TCC/Data/Data base of online spectra for samples with cells-VLP rabies.xlsx\n",
            "--> Saving results to as Best_models_raw_100_3425/Online_Best_PLS.pkl\n",
            "\n",
            "Finished Xv , best model prediciton RSME = 255022.456660, MAPE = 31.03%\n",
            "Finished CV , best model prediciton RSME = 5.726312, MAPE = 10.31%\n",
            "Finished Gluc, best model prediciton RSME = 0.322916, MAPE = 2.44%\n",
            "Finished Lac, best model prediciton RSME = 0.004780, MAPE = 8.33%\n",
            "Finished Gln, best model prediciton RSME = 0.068117, MAPE = 5.76%\n",
            "Finished Glu, best model prediciton RSME = 0.055553, MAPE = 2.64%\n",
            "Finished NH4, best model prediciton RSME = 0.002134, MAPE = 2.00%\n",
            "Finished K, best model prediciton RSME = 0.016745, MAPE = 2.01%\n",
            "\n",
            "--> Finished /content/drive/MyDrive/TCC/Data/Data base of online spectra (X 400-1850 cm-1) for samples with cells-VLP rabies.xlsx\n",
            "--> Saving results to as Best_models_400_1850/Online_Best_PLS.pkl\n",
            "\n",
            "Finished Xv , best model prediciton RSME = 266847.308458, MAPE = 17.92%\n",
            "Finished CV , best model prediciton RSME = 4.611698, MAPE = 9.13%\n",
            "Finished Gluc, best model prediciton RSME = 0.334466, MAPE = 2.71%\n",
            "Finished Lac, best model prediciton RSME = 0.004283, MAPE = 8.32%\n",
            "Finished Gln, best model prediciton RSME = 0.071584, MAPE = 5.54%\n",
            "Finished Glu, best model prediciton RSME = 0.081696, MAPE = 3.14%\n",
            "Finished NH4, best model prediciton RSME = 0.001937, MAPE = 1.92%\n",
            "Finished K, best model prediciton RSME = 0.016087, MAPE = 1.91%\n",
            "\n",
            "--> Finished /content/drive/MyDrive/TCC/Data/Data base of online spectra (X 2800-3425 cm-1) for samples with cells-VLP rabies.xlsx\n",
            "--> Saving results to as Best_models_2425_2800/Online_Best_PLS.pkl\n",
            "\n",
            "Finished Xv , best model prediciton RSME = 689965.587542, MAPE = 179.79%\n",
            "Finished CV , best model prediciton RSME = 12.827303, MAPE = 19.39%\n",
            "Finished Gluc, best model prediciton RSME = 0.721567, MAPE = 5.99%\n",
            "Finished Lac, best model prediciton RSME = 0.013559, MAPE = 27.99%\n",
            "Finished Gln, best model prediciton RSME = 0.147358, MAPE = 12.34%\n",
            "Finished Glu, best model prediciton RSME = 0.142843, MAPE = 7.42%\n",
            "Finished NH4, best model prediciton RSME = 0.005576, MAPE = 5.08%\n",
            "Finished K, best model prediciton RSME = 0.036817, MAPE = 4.48%\n",
            "\n",
            "--> Finished /content/drive/MyDrive/TCC/Data/Data base of offline spectra for samples with cells-VLP rabies.xlsx\n",
            "--> Saving results to as Best_models_raw_100_3425/Offline_Best_PLS.pkl\n",
            "\n"
          ]
        },
        {
          "output_type": "stream",
          "name": "stderr",
          "text": [
            "/usr/local/lib/python3.7/dist-packages/sklearn/utils/validation.py:1692: FutureWarning: Feature names only support names that are all strings. Got feature names with dtypes: ['float']. An error will be raised in 1.2.\n",
            "  FutureWarning,\n",
            "/usr/local/lib/python3.7/dist-packages/sklearn/utils/validation.py:1692: FutureWarning: Feature names only support names that are all strings. Got feature names with dtypes: ['float']. An error will be raised in 1.2.\n",
            "  FutureWarning,\n",
            "/usr/local/lib/python3.7/dist-packages/sklearn/utils/validation.py:1692: FutureWarning: Feature names only support names that are all strings. Got feature names with dtypes: ['float']. An error will be raised in 1.2.\n",
            "  FutureWarning,\n"
          ]
        },
        {
          "output_type": "stream",
          "name": "stdout",
          "text": [
            "Finished Xv , best model prediciton RSME = 263449.857240, MAPE = 19.57%\n"
          ]
        },
        {
          "output_type": "stream",
          "name": "stderr",
          "text": [
            "/usr/local/lib/python3.7/dist-packages/sklearn/utils/validation.py:1692: FutureWarning: Feature names only support names that are all strings. Got feature names with dtypes: ['float']. An error will be raised in 1.2.\n",
            "  FutureWarning,\n",
            "/usr/local/lib/python3.7/dist-packages/sklearn/utils/validation.py:1692: FutureWarning: Feature names only support names that are all strings. Got feature names with dtypes: ['float']. An error will be raised in 1.2.\n",
            "  FutureWarning,\n",
            "/usr/local/lib/python3.7/dist-packages/sklearn/utils/validation.py:1692: FutureWarning: Feature names only support names that are all strings. Got feature names with dtypes: ['float']. An error will be raised in 1.2.\n",
            "  FutureWarning,\n"
          ]
        },
        {
          "output_type": "stream",
          "name": "stdout",
          "text": [
            "Finished CV , best model prediciton RSME = 3.770400, MAPE = 6.66%\n"
          ]
        },
        {
          "output_type": "stream",
          "name": "stderr",
          "text": [
            "/usr/local/lib/python3.7/dist-packages/sklearn/utils/validation.py:1692: FutureWarning: Feature names only support names that are all strings. Got feature names with dtypes: ['float']. An error will be raised in 1.2.\n",
            "  FutureWarning,\n",
            "/usr/local/lib/python3.7/dist-packages/sklearn/utils/validation.py:1692: FutureWarning: Feature names only support names that are all strings. Got feature names with dtypes: ['float']. An error will be raised in 1.2.\n",
            "  FutureWarning,\n",
            "/usr/local/lib/python3.7/dist-packages/sklearn/utils/validation.py:1692: FutureWarning: Feature names only support names that are all strings. Got feature names with dtypes: ['float']. An error will be raised in 1.2.\n",
            "  FutureWarning,\n"
          ]
        },
        {
          "output_type": "stream",
          "name": "stdout",
          "text": [
            "Finished Gluc, best model prediciton RSME = 0.319859, MAPE = 2.60%\n"
          ]
        },
        {
          "output_type": "stream",
          "name": "stderr",
          "text": [
            "/usr/local/lib/python3.7/dist-packages/sklearn/utils/validation.py:1692: FutureWarning: Feature names only support names that are all strings. Got feature names with dtypes: ['float']. An error will be raised in 1.2.\n",
            "  FutureWarning,\n",
            "/usr/local/lib/python3.7/dist-packages/sklearn/utils/validation.py:1692: FutureWarning: Feature names only support names that are all strings. Got feature names with dtypes: ['float']. An error will be raised in 1.2.\n",
            "  FutureWarning,\n",
            "/usr/local/lib/python3.7/dist-packages/sklearn/utils/validation.py:1692: FutureWarning: Feature names only support names that are all strings. Got feature names with dtypes: ['float']. An error will be raised in 1.2.\n",
            "  FutureWarning,\n"
          ]
        },
        {
          "output_type": "stream",
          "name": "stdout",
          "text": [
            "Finished Lac, best model prediciton RSME = 0.003128, MAPE = 6.52%\n"
          ]
        },
        {
          "output_type": "stream",
          "name": "stderr",
          "text": [
            "/usr/local/lib/python3.7/dist-packages/sklearn/utils/validation.py:1692: FutureWarning: Feature names only support names that are all strings. Got feature names with dtypes: ['float']. An error will be raised in 1.2.\n",
            "  FutureWarning,\n",
            "/usr/local/lib/python3.7/dist-packages/sklearn/utils/validation.py:1692: FutureWarning: Feature names only support names that are all strings. Got feature names with dtypes: ['float']. An error will be raised in 1.2.\n",
            "  FutureWarning,\n",
            "/usr/local/lib/python3.7/dist-packages/sklearn/utils/validation.py:1692: FutureWarning: Feature names only support names that are all strings. Got feature names with dtypes: ['float']. An error will be raised in 1.2.\n",
            "  FutureWarning,\n"
          ]
        },
        {
          "output_type": "stream",
          "name": "stdout",
          "text": [
            "Finished Gln, best model prediciton RSME = 0.050512, MAPE = 4.05%\n"
          ]
        },
        {
          "output_type": "stream",
          "name": "stderr",
          "text": [
            "/usr/local/lib/python3.7/dist-packages/sklearn/utils/validation.py:1692: FutureWarning: Feature names only support names that are all strings. Got feature names with dtypes: ['float']. An error will be raised in 1.2.\n",
            "  FutureWarning,\n",
            "/usr/local/lib/python3.7/dist-packages/sklearn/utils/validation.py:1692: FutureWarning: Feature names only support names that are all strings. Got feature names with dtypes: ['float']. An error will be raised in 1.2.\n",
            "  FutureWarning,\n",
            "/usr/local/lib/python3.7/dist-packages/sklearn/utils/validation.py:1692: FutureWarning: Feature names only support names that are all strings. Got feature names with dtypes: ['float']. An error will be raised in 1.2.\n",
            "  FutureWarning,\n"
          ]
        },
        {
          "output_type": "stream",
          "name": "stdout",
          "text": [
            "Finished Glu, best model prediciton RSME = 0.053241, MAPE = 2.58%\n"
          ]
        },
        {
          "output_type": "stream",
          "name": "stderr",
          "text": [
            "/usr/local/lib/python3.7/dist-packages/sklearn/utils/validation.py:1692: FutureWarning: Feature names only support names that are all strings. Got feature names with dtypes: ['float']. An error will be raised in 1.2.\n",
            "  FutureWarning,\n",
            "/usr/local/lib/python3.7/dist-packages/sklearn/utils/validation.py:1692: FutureWarning: Feature names only support names that are all strings. Got feature names with dtypes: ['float']. An error will be raised in 1.2.\n",
            "  FutureWarning,\n",
            "/usr/local/lib/python3.7/dist-packages/sklearn/utils/validation.py:1692: FutureWarning: Feature names only support names that are all strings. Got feature names with dtypes: ['float']. An error will be raised in 1.2.\n",
            "  FutureWarning,\n"
          ]
        },
        {
          "output_type": "stream",
          "name": "stdout",
          "text": [
            "Finished NH4, best model prediciton RSME = 0.002099, MAPE = 1.97%\n"
          ]
        },
        {
          "output_type": "stream",
          "name": "stderr",
          "text": [
            "/usr/local/lib/python3.7/dist-packages/sklearn/utils/validation.py:1692: FutureWarning: Feature names only support names that are all strings. Got feature names with dtypes: ['float']. An error will be raised in 1.2.\n",
            "  FutureWarning,\n",
            "/usr/local/lib/python3.7/dist-packages/sklearn/utils/validation.py:1692: FutureWarning: Feature names only support names that are all strings. Got feature names with dtypes: ['float']. An error will be raised in 1.2.\n",
            "  FutureWarning,\n",
            "/usr/local/lib/python3.7/dist-packages/sklearn/utils/validation.py:1692: FutureWarning: Feature names only support names that are all strings. Got feature names with dtypes: ['float']. An error will be raised in 1.2.\n",
            "  FutureWarning,\n"
          ]
        },
        {
          "output_type": "stream",
          "name": "stdout",
          "text": [
            "Finished K, best model prediciton RSME = 0.015552, MAPE = 1.79%\n",
            "\n",
            "--> Finished /content/drive/MyDrive/TCC/Data/Data base of offline spectra (X 400-1850 cm-1) for samples with cells-VLP rabies.xlsx\n",
            "--> Saving results to as Best_models_400_1850/Offline_Best_PLS.pkl\n",
            "\n"
          ]
        },
        {
          "output_type": "stream",
          "name": "stderr",
          "text": [
            "/usr/local/lib/python3.7/dist-packages/sklearn/utils/validation.py:1692: FutureWarning: Feature names only support names that are all strings. Got feature names with dtypes: ['float']. An error will be raised in 1.2.\n",
            "  FutureWarning,\n",
            "/usr/local/lib/python3.7/dist-packages/sklearn/utils/validation.py:1692: FutureWarning: Feature names only support names that are all strings. Got feature names with dtypes: ['float']. An error will be raised in 1.2.\n",
            "  FutureWarning,\n",
            "/usr/local/lib/python3.7/dist-packages/sklearn/utils/validation.py:1692: FutureWarning: Feature names only support names that are all strings. Got feature names with dtypes: ['float']. An error will be raised in 1.2.\n",
            "  FutureWarning,\n"
          ]
        },
        {
          "output_type": "stream",
          "name": "stdout",
          "text": [
            "Finished Xv , best model prediciton RSME = 268505.955668, MAPE = 18.95%\n"
          ]
        },
        {
          "output_type": "stream",
          "name": "stderr",
          "text": [
            "/usr/local/lib/python3.7/dist-packages/sklearn/utils/validation.py:1692: FutureWarning: Feature names only support names that are all strings. Got feature names with dtypes: ['float']. An error will be raised in 1.2.\n",
            "  FutureWarning,\n",
            "/usr/local/lib/python3.7/dist-packages/sklearn/utils/validation.py:1692: FutureWarning: Feature names only support names that are all strings. Got feature names with dtypes: ['float']. An error will be raised in 1.2.\n",
            "  FutureWarning,\n",
            "/usr/local/lib/python3.7/dist-packages/sklearn/utils/validation.py:1692: FutureWarning: Feature names only support names that are all strings. Got feature names with dtypes: ['float']. An error will be raised in 1.2.\n",
            "  FutureWarning,\n"
          ]
        },
        {
          "output_type": "stream",
          "name": "stdout",
          "text": [
            "Finished CV , best model prediciton RSME = 4.592730, MAPE = 7.12%\n"
          ]
        },
        {
          "output_type": "stream",
          "name": "stderr",
          "text": [
            "/usr/local/lib/python3.7/dist-packages/sklearn/utils/validation.py:1692: FutureWarning: Feature names only support names that are all strings. Got feature names with dtypes: ['float']. An error will be raised in 1.2.\n",
            "  FutureWarning,\n",
            "/usr/local/lib/python3.7/dist-packages/sklearn/utils/validation.py:1692: FutureWarning: Feature names only support names that are all strings. Got feature names with dtypes: ['float']. An error will be raised in 1.2.\n",
            "  FutureWarning,\n",
            "/usr/local/lib/python3.7/dist-packages/sklearn/utils/validation.py:1692: FutureWarning: Feature names only support names that are all strings. Got feature names with dtypes: ['float']. An error will be raised in 1.2.\n",
            "  FutureWarning,\n"
          ]
        },
        {
          "output_type": "stream",
          "name": "stdout",
          "text": [
            "Finished Gluc, best model prediciton RSME = 0.288924, MAPE = 2.15%\n"
          ]
        },
        {
          "output_type": "stream",
          "name": "stderr",
          "text": [
            "/usr/local/lib/python3.7/dist-packages/sklearn/utils/validation.py:1692: FutureWarning: Feature names only support names that are all strings. Got feature names with dtypes: ['float']. An error will be raised in 1.2.\n",
            "  FutureWarning,\n",
            "/usr/local/lib/python3.7/dist-packages/sklearn/utils/validation.py:1692: FutureWarning: Feature names only support names that are all strings. Got feature names with dtypes: ['float']. An error will be raised in 1.2.\n",
            "  FutureWarning,\n",
            "/usr/local/lib/python3.7/dist-packages/sklearn/utils/validation.py:1692: FutureWarning: Feature names only support names that are all strings. Got feature names with dtypes: ['float']. An error will be raised in 1.2.\n",
            "  FutureWarning,\n"
          ]
        },
        {
          "output_type": "stream",
          "name": "stdout",
          "text": [
            "Finished Lac, best model prediciton RSME = 0.003593, MAPE = 6.64%\n"
          ]
        },
        {
          "output_type": "stream",
          "name": "stderr",
          "text": [
            "/usr/local/lib/python3.7/dist-packages/sklearn/utils/validation.py:1692: FutureWarning: Feature names only support names that are all strings. Got feature names with dtypes: ['float']. An error will be raised in 1.2.\n",
            "  FutureWarning,\n",
            "/usr/local/lib/python3.7/dist-packages/sklearn/utils/validation.py:1692: FutureWarning: Feature names only support names that are all strings. Got feature names with dtypes: ['float']. An error will be raised in 1.2.\n",
            "  FutureWarning,\n",
            "/usr/local/lib/python3.7/dist-packages/sklearn/utils/validation.py:1692: FutureWarning: Feature names only support names that are all strings. Got feature names with dtypes: ['float']. An error will be raised in 1.2.\n",
            "  FutureWarning,\n"
          ]
        },
        {
          "output_type": "stream",
          "name": "stdout",
          "text": [
            "Finished Gln, best model prediciton RSME = 0.053886, MAPE = 4.63%\n"
          ]
        },
        {
          "output_type": "stream",
          "name": "stderr",
          "text": [
            "/usr/local/lib/python3.7/dist-packages/sklearn/utils/validation.py:1692: FutureWarning: Feature names only support names that are all strings. Got feature names with dtypes: ['float']. An error will be raised in 1.2.\n",
            "  FutureWarning,\n",
            "/usr/local/lib/python3.7/dist-packages/sklearn/utils/validation.py:1692: FutureWarning: Feature names only support names that are all strings. Got feature names with dtypes: ['float']. An error will be raised in 1.2.\n",
            "  FutureWarning,\n",
            "/usr/local/lib/python3.7/dist-packages/sklearn/utils/validation.py:1692: FutureWarning: Feature names only support names that are all strings. Got feature names with dtypes: ['float']. An error will be raised in 1.2.\n",
            "  FutureWarning,\n"
          ]
        },
        {
          "output_type": "stream",
          "name": "stdout",
          "text": [
            "Finished Glu, best model prediciton RSME = 0.061390, MAPE = 2.67%\n"
          ]
        },
        {
          "output_type": "stream",
          "name": "stderr",
          "text": [
            "/usr/local/lib/python3.7/dist-packages/sklearn/utils/validation.py:1692: FutureWarning: Feature names only support names that are all strings. Got feature names with dtypes: ['float']. An error will be raised in 1.2.\n",
            "  FutureWarning,\n",
            "/usr/local/lib/python3.7/dist-packages/sklearn/utils/validation.py:1692: FutureWarning: Feature names only support names that are all strings. Got feature names with dtypes: ['float']. An error will be raised in 1.2.\n",
            "  FutureWarning,\n",
            "/usr/local/lib/python3.7/dist-packages/sklearn/utils/validation.py:1692: FutureWarning: Feature names only support names that are all strings. Got feature names with dtypes: ['float']. An error will be raised in 1.2.\n",
            "  FutureWarning,\n"
          ]
        },
        {
          "output_type": "stream",
          "name": "stdout",
          "text": [
            "Finished NH4, best model prediciton RSME = 0.002589, MAPE = 2.30%\n"
          ]
        },
        {
          "output_type": "stream",
          "name": "stderr",
          "text": [
            "/usr/local/lib/python3.7/dist-packages/sklearn/utils/validation.py:1692: FutureWarning: Feature names only support names that are all strings. Got feature names with dtypes: ['float']. An error will be raised in 1.2.\n",
            "  FutureWarning,\n",
            "/usr/local/lib/python3.7/dist-packages/sklearn/utils/validation.py:1692: FutureWarning: Feature names only support names that are all strings. Got feature names with dtypes: ['float']. An error will be raised in 1.2.\n",
            "  FutureWarning,\n",
            "/usr/local/lib/python3.7/dist-packages/sklearn/utils/validation.py:1692: FutureWarning: Feature names only support names that are all strings. Got feature names with dtypes: ['float']. An error will be raised in 1.2.\n",
            "  FutureWarning,\n"
          ]
        },
        {
          "output_type": "stream",
          "name": "stdout",
          "text": [
            "Finished K, best model prediciton RSME = 0.015362, MAPE = 1.84%\n",
            "\n",
            "--> Finished /content/drive/MyDrive/TCC/Data/Data base of offline spectra (X 2800-3425 cm-1) for samples with cells-VLP rabies.xlsx\n",
            "--> Saving results to as Best_models_2425_2800/Offline_Best_PLS.pkl\n",
            "\n"
          ]
        }
      ]
    },
    {
      "cell_type": "code",
      "source": [
        "joblib.dump(results_PLS, \"/content/drive/MyDrive/TCC/Trained models/Online_Best_PLS.pkl\")\n",
        "\n",
        "PLS_results = pd.DataFrame(results_PLS, index=['RMSE_PLS', 'Prediction RMSE', 'Prediction MAPE',  'Best PLS Parameters', 'Best Model']).T\n",
        "PLS_results.style.set_properties(subset=['Best PLS Parameters'], **{'width': '500px'})"
      ],
      "metadata": {
        "colab": {
          "base_uri": "https://localhost:8080/",
          "height": 456
        },
        "id": "b_eAtynSB2PP",
        "outputId": "6b6edc2e-1075-43dd-931a-6ab40e54d9c1"
      },
      "execution_count": 9,
      "outputs": [
        {
          "output_type": "execute_result",
          "data": {
            "text/plain": [
              "<pandas.io.formats.style.Styler at 0x7ff039f57a90>"
            ],
            "text/html": [
              "<style type=\"text/css\">\n",
              "#T_cc99d_row0_col3, #T_cc99d_row1_col3, #T_cc99d_row2_col3, #T_cc99d_row3_col3, #T_cc99d_row4_col3, #T_cc99d_row5_col3, #T_cc99d_row6_col3, #T_cc99d_row7_col3 {\n",
              "  width: 500px;\n",
              "}\n",
              "</style>\n",
              "<table id=\"T_cc99d_\" class=\"dataframe\">\n",
              "  <thead>\n",
              "    <tr>\n",
              "      <th class=\"blank level0\" >&nbsp;</th>\n",
              "      <th class=\"col_heading level0 col0\" >RMSE_PLS</th>\n",
              "      <th class=\"col_heading level0 col1\" >Prediction RMSE</th>\n",
              "      <th class=\"col_heading level0 col2\" >Prediction MAPE</th>\n",
              "      <th class=\"col_heading level0 col3\" >Best PLS Parameters</th>\n",
              "      <th class=\"col_heading level0 col4\" >Best Model</th>\n",
              "    </tr>\n",
              "  </thead>\n",
              "  <tbody>\n",
              "    <tr>\n",
              "      <th id=\"T_cc99d_level0_row0\" class=\"row_heading level0 row0\" >Xv </th>\n",
              "      <td id=\"T_cc99d_row0_col0\" class=\"data row0 col0\" >0.978811</td>\n",
              "      <td id=\"T_cc99d_row0_col1\" class=\"data row0 col1\" >268505.955668</td>\n",
              "      <td id=\"T_cc99d_row0_col2\" class=\"data row0 col2\" >0.189529</td>\n",
              "      <td id=\"T_cc99d_row0_col3\" class=\"data row0 col3\" >{'n_components': 78}</td>\n",
              "      <td id=\"T_cc99d_row0_col4\" class=\"data row0 col4\" >GridSearchCV(cv=10, estimator=PLSRegression(), n_jobs=-1,\n",
              "             param_grid={'n_components': [15, 18, 21, 24, 27, 30, 33, 36, 39,\n",
              "                                          42, 45, 48, 51, 54, 57, 60, 63, 66,\n",
              "                                          69, 72, 75, 78, 81]},\n",
              "             scoring='explained_variance')</td>\n",
              "    </tr>\n",
              "    <tr>\n",
              "      <th id=\"T_cc99d_level0_row1\" class=\"row_heading level0 row1\" >CV </th>\n",
              "      <td id=\"T_cc99d_row1_col0\" class=\"data row1 col0\" >0.944385</td>\n",
              "      <td id=\"T_cc99d_row1_col1\" class=\"data row1 col1\" >4.592730</td>\n",
              "      <td id=\"T_cc99d_row1_col2\" class=\"data row1 col2\" >0.071159</td>\n",
              "      <td id=\"T_cc99d_row1_col3\" class=\"data row1 col3\" >{'n_components': 69}</td>\n",
              "      <td id=\"T_cc99d_row1_col4\" class=\"data row1 col4\" >GridSearchCV(cv=10, estimator=PLSRegression(), n_jobs=-1,\n",
              "             param_grid={'n_components': [15, 18, 21, 24, 27, 30, 33, 36, 39,\n",
              "                                          42, 45, 48, 51, 54, 57, 60, 63, 66,\n",
              "                                          69, 72, 75, 78, 81]},\n",
              "             scoring='explained_variance')</td>\n",
              "    </tr>\n",
              "    <tr>\n",
              "      <th id=\"T_cc99d_level0_row2\" class=\"row_heading level0 row2\" >Gluc</th>\n",
              "      <td id=\"T_cc99d_row2_col0\" class=\"data row2 col0\" >0.851824</td>\n",
              "      <td id=\"T_cc99d_row2_col1\" class=\"data row2 col1\" >0.288924</td>\n",
              "      <td id=\"T_cc99d_row2_col2\" class=\"data row2 col2\" >0.021540</td>\n",
              "      <td id=\"T_cc99d_row2_col3\" class=\"data row2 col3\" >{'n_components': 66}</td>\n",
              "      <td id=\"T_cc99d_row2_col4\" class=\"data row2 col4\" >GridSearchCV(cv=10, estimator=PLSRegression(), n_jobs=-1,\n",
              "             param_grid={'n_components': [15, 18, 21, 24, 27, 30, 33, 36, 39,\n",
              "                                          42, 45, 48, 51, 54, 57, 60, 63, 66,\n",
              "                                          69, 72, 75, 78, 81]},\n",
              "             scoring='explained_variance')</td>\n",
              "    </tr>\n",
              "    <tr>\n",
              "      <th id=\"T_cc99d_level0_row3\" class=\"row_heading level0 row3\" >Lac</th>\n",
              "      <td id=\"T_cc99d_row3_col0\" class=\"data row3 col0\" >0.898638</td>\n",
              "      <td id=\"T_cc99d_row3_col1\" class=\"data row3 col1\" >0.003593</td>\n",
              "      <td id=\"T_cc99d_row3_col2\" class=\"data row3 col2\" >0.066421</td>\n",
              "      <td id=\"T_cc99d_row3_col3\" class=\"data row3 col3\" >{'n_components': 66}</td>\n",
              "      <td id=\"T_cc99d_row3_col4\" class=\"data row3 col4\" >GridSearchCV(cv=10, estimator=PLSRegression(), n_jobs=-1,\n",
              "             param_grid={'n_components': [15, 18, 21, 24, 27, 30, 33, 36, 39,\n",
              "                                          42, 45, 48, 51, 54, 57, 60, 63, 66,\n",
              "                                          69, 72, 75, 78, 81]},\n",
              "             scoring='explained_variance')</td>\n",
              "    </tr>\n",
              "    <tr>\n",
              "      <th id=\"T_cc99d_level0_row4\" class=\"row_heading level0 row4\" >Gln</th>\n",
              "      <td id=\"T_cc99d_row4_col0\" class=\"data row4 col0\" >0.928859</td>\n",
              "      <td id=\"T_cc99d_row4_col1\" class=\"data row4 col1\" >0.053886</td>\n",
              "      <td id=\"T_cc99d_row4_col2\" class=\"data row4 col2\" >0.046300</td>\n",
              "      <td id=\"T_cc99d_row4_col3\" class=\"data row4 col3\" >{'n_components': 81}</td>\n",
              "      <td id=\"T_cc99d_row4_col4\" class=\"data row4 col4\" >GridSearchCV(cv=10, estimator=PLSRegression(), n_jobs=-1,\n",
              "             param_grid={'n_components': [15, 18, 21, 24, 27, 30, 33, 36, 39,\n",
              "                                          42, 45, 48, 51, 54, 57, 60, 63, 66,\n",
              "                                          69, 72, 75, 78, 81]},\n",
              "             scoring='explained_variance')</td>\n",
              "    </tr>\n",
              "    <tr>\n",
              "      <th id=\"T_cc99d_level0_row5\" class=\"row_heading level0 row5\" >Glu</th>\n",
              "      <td id=\"T_cc99d_row5_col0\" class=\"data row5 col0\" >0.844097</td>\n",
              "      <td id=\"T_cc99d_row5_col1\" class=\"data row5 col1\" >0.061390</td>\n",
              "      <td id=\"T_cc99d_row5_col2\" class=\"data row5 col2\" >0.026692</td>\n",
              "      <td id=\"T_cc99d_row5_col3\" class=\"data row5 col3\" >{'n_components': 66}</td>\n",
              "      <td id=\"T_cc99d_row5_col4\" class=\"data row5 col4\" >GridSearchCV(cv=10, estimator=PLSRegression(), n_jobs=-1,\n",
              "             param_grid={'n_components': [15, 18, 21, 24, 27, 30, 33, 36, 39,\n",
              "                                          42, 45, 48, 51, 54, 57, 60, 63, 66,\n",
              "                                          69, 72, 75, 78, 81]},\n",
              "             scoring='explained_variance')</td>\n",
              "    </tr>\n",
              "    <tr>\n",
              "      <th id=\"T_cc99d_level0_row6\" class=\"row_heading level0 row6\" >NH4</th>\n",
              "      <td id=\"T_cc99d_row6_col0\" class=\"data row6 col0\" >0.945728</td>\n",
              "      <td id=\"T_cc99d_row6_col1\" class=\"data row6 col1\" >0.002589</td>\n",
              "      <td id=\"T_cc99d_row6_col2\" class=\"data row6 col2\" >0.023044</td>\n",
              "      <td id=\"T_cc99d_row6_col3\" class=\"data row6 col3\" >{'n_components': 72}</td>\n",
              "      <td id=\"T_cc99d_row6_col4\" class=\"data row6 col4\" >GridSearchCV(cv=10, estimator=PLSRegression(), n_jobs=-1,\n",
              "             param_grid={'n_components': [15, 18, 21, 24, 27, 30, 33, 36, 39,\n",
              "                                          42, 45, 48, 51, 54, 57, 60, 63, 66,\n",
              "                                          69, 72, 75, 78, 81]},\n",
              "             scoring='explained_variance')</td>\n",
              "    </tr>\n",
              "    <tr>\n",
              "      <th id=\"T_cc99d_level0_row7\" class=\"row_heading level0 row7\" >K</th>\n",
              "      <td id=\"T_cc99d_row7_col0\" class=\"data row7 col0\" >0.821838</td>\n",
              "      <td id=\"T_cc99d_row7_col1\" class=\"data row7 col1\" >0.015362</td>\n",
              "      <td id=\"T_cc99d_row7_col2\" class=\"data row7 col2\" >0.018445</td>\n",
              "      <td id=\"T_cc99d_row7_col3\" class=\"data row7 col3\" >{'n_components': 63}</td>\n",
              "      <td id=\"T_cc99d_row7_col4\" class=\"data row7 col4\" >GridSearchCV(cv=10, estimator=PLSRegression(), n_jobs=-1,\n",
              "             param_grid={'n_components': [15, 18, 21, 24, 27, 30, 33, 36, 39,\n",
              "                                          42, 45, 48, 51, 54, 57, 60, 63, 66,\n",
              "                                          69, 72, 75, 78, 81]},\n",
              "             scoring='explained_variance')</td>\n",
              "    </tr>\n",
              "  </tbody>\n",
              "</table>\n"
            ]
          },
          "metadata": {},
          "execution_count": 9
        }
      ]
    },
    {
      "cell_type": "markdown",
      "source": [
        "## Results"
      ],
      "metadata": {
        "id": "b9v9qtJCgKRD"
      }
    },
    {
      "cell_type": "markdown",
      "source": [
        "### Relative error comparison\n",
        "---\n",
        "- Any model and any data origin\n",
        "- Error displayed in %"
      ],
      "metadata": {
        "id": "iAPA7mb4gx2T"
      }
    },
    {
      "cell_type": "code",
      "source": [
        "# choosing models\n",
        "\n",
        "data_origin_1, spectral_range_1, model_category_1 = input('Enter the data origin (offline/online), spectral range and your model category for graph 1: ').split(' ')\n",
        "data_origin_2, spectral_range_2, model_category_2 = input('Enter the data origin (offline/online), spectral range and your model category for graph 2: ').split(' ')\n",
        "\n",
        "spectral_ranges = {\"100-3425\": \"Best_models_100_3425\",\n",
        "                   \"400-1850\": \"Best_models_400_1850\",\n",
        "                   \"2425-2800\": \"Best_models_2425_2800\",\n",
        "                   \"No_preprocessing\": \"Best_models_raw_100_3425\"}\n",
        "\n",
        "model_1 = joblib.load(f'/content/drive/MyDrive/TCC/Trained models/{spectral_ranges[spectral_range_1]}/{data_origin_1}_Best_{model_category_1}.pkl')\n",
        "model_2 = joblib.load(f'/content/drive/MyDrive/TCC/Trained models/{spectral_ranges[spectral_range_2]}/{data_origin_2}_Best_{model_category_2}.pkl')\n",
        "\n",
        "model_1 = pd.DataFrame(model_1).T[[2]]\n",
        "model_2 = pd.DataFrame(model_2).T[[2]]\n",
        "\n",
        "# offline data\n",
        "errors_model_1 = model_1.values\n",
        "errors_model_1 = [round(error[0], 4) * 100 for error in errors_model_1]\n",
        "\n",
        "# online data\n",
        "errors_model_2 = model_2.values\n",
        "errors_model_2 = [round(error[0], 4) * 100 for error in errors_model_2]\n",
        "\n",
        "# plotting comparison graph\n",
        "fig, ax = plt.subplots(figsize=(15, 9))\n",
        "x_pos = np.array(range(1, 9))\n",
        "\n",
        "bars_on = ax.bar(x_pos-0.45, errors_model_1, 0.45, label=f'{data_origin_1} - {model_category_1}')\n",
        "bars_off = ax.bar(x_pos, errors_model_2, 0.45, label=f'{data_origin_2} - {model_category_2}')\n",
        "\n",
        "ax.bar_label(bars_on)\n",
        "ax.bar_label(bars_off)\n",
        "\n",
        "plt.xticks(x_pos, model_1.index.tolist())\n",
        "plt.title(f'{data_origin_1} {model_category_1} ({spectral_range_1} cm-1) vs {data_origin_2} {model_category_2} ({spectral_range_2} cm-1) - Erro percentual absoluto médio para cada parâmetro',\n",
        "          fontsize=16)\n",
        "plt.xlabel('Parâmetros', fontsize=16)\n",
        "plt.ylabel('Erro em %', fontsize=16)\n",
        "plt.legend([f'{data_origin_1} {model_category_1} ({spectral_range_1} cm-1)',\n",
        "                             f'{data_origin_2} {model_category_2} ({spectral_range_2} cm-1)'], \n",
        "                    title=\"Modelos\",\n",
        "                    loc='upper right', fontsize='large', fancybox=True)\n",
        "\n",
        "#Online 2425-2800 PCR\n",
        "#Online 400-1850 PCR"
      ],
      "metadata": {
        "colab": {
          "base_uri": "https://localhost:8080/",
          "height": 627
        },
        "id": "u_R0XRuxK22z",
        "outputId": "52cdc8a1-64b7-4345-9867-f859039871bf"
      },
      "execution_count": 14,
      "outputs": [
        {
          "name": "stdout",
          "output_type": "stream",
          "text": [
            "Enter the data origin (offline/online), spectral range and your model category for graph 1: Online 2425-2800 PCR\n",
            "Enter the data origin (offline/online), spectral range and your model category for graph 2: Online 100-3425 PCR\n"
          ]
        },
        {
          "output_type": "execute_result",
          "data": {
            "text/plain": [
              "<matplotlib.legend.Legend at 0x7ff037625ed0>"
            ]
          },
          "metadata": {},
          "execution_count": 14
        },
        {
          "output_type": "display_data",
          "data": {
            "text/plain": [
              "<Figure size 1080x648 with 1 Axes>"
            ],
            "image/png": "[encoded data removed]"
          },
          "metadata": {
            "needs_background": "light"
          }
        }
      ]
    },
    {
      "cell_type": "markdown",
      "source": [
        "### Root mean squared errors comparison\n",
        "---\n",
        "- Any model and any data origin\n",
        "- Xv can't be displayed alongside other parameters\n",
        "- Has the folowing modes:\n",
        "\n",
        "  > Xv or CV only / All other parameters\n",
        "\n",
        "  > Training RSME comparison / Prediction RSME comparison"
      ],
      "metadata": {
        "id": "SNEeoppI6nI6"
      }
    },
    {
      "cell_type": "code",
      "source": [
        "# choosing models\n",
        "\n",
        "mode = input('Please choose the kind of error to be dispalyed (Training/Prediction): ')\n",
        "data_origin_1, model_category_1 = input('Enter the data origin (offline/online) and your model category for graph 1: ').split(' ')\n",
        "data_origin_2, model_category_2 = input('Enter the data origin (offline/online) and your model category for graph 2: ').split(' ')\n",
        "\n",
        "model_1 = joblib.load(f'/content/drive/MyDrive/TCC/Trained models/{data_origin_1}_Best_{model_category_1}.pkl')\n",
        "model_2 = joblib.load(f'/content/drive/MyDrive/TCC/Trained models/{data_origin_2}_Best_{model_category_2}.pkl')\n",
        "\n",
        "if mode == 'Training':\n",
        "  model_1 = pd.DataFrame(model_1).T[[0]]\n",
        "  model_2 = pd.DataFrame(model_2).T[[0]]\n",
        "\n",
        "elif mode == 'Prediction':\n",
        "  model_1 = pd.DataFrame(model_1).T[[1]]\n",
        "  model_2 = pd.DataFrame(model_2).T[[1]]\n",
        "\n",
        "# offline data]\n",
        "errors_model_1 = model_1.values\n",
        "errors_model_1 = [round(abs(*error), 3) for error in errors_model_1[2:]]\n",
        "\n",
        "# online data\n",
        "errors_model_2 = model_2.values\n",
        "errors_model_2 = [round(abs(*error), 3) for error in errors_model_2[2:]]\n",
        "\n",
        "# plotting comparison graph\n",
        "fig, ax = plt.subplots(figsize=(15, 9))\n",
        "x_pos = np.array(range(1, 7))\n",
        "\n",
        "bars_on = ax.bar(x_pos-0.45, errors_model_1, 0.45, label=f'{data_origin_1} - {model_category_1}')\n",
        "bars_off = ax.bar(x_pos, errors_model_2, 0.45, label=f'{data_origin_2} - {model_category_2}')\n",
        "\n",
        "ax.bar_label(bars_on)\n",
        "ax.bar_label(bars_off)\n",
        "\n",
        "plt.xticks(x_pos, model_1.index.tolist()[2:])\n",
        "plt.title(f'{data_origin_1} {model_category_1} vs {data_origin_2} {model_category_2} - Mean Absolute Percent Error for each parameter')\n",
        "plt.xlabel('Parameters')\n",
        "plt.ylabel('Root Mean Squared Error')\n",
        "plt.legend(prop={'size': 15})"
      ],
      "metadata": {
        "colab": {
          "base_uri": "https://localhost:8080/",
          "height": 640
        },
        "id": "wsVng0WNSa0L",
        "outputId": "39a6ce97-48e7-4f02-f3fe-1040321b6276"
      },
      "execution_count": null,
      "outputs": [
        {
          "name": "stdout",
          "output_type": "stream",
          "text": [
            "Please choose the kind of error to be dispalyed (Training/Prediction): Prediction\n",
            "Enter the data origin (offline/online) and your model category for graph 1: Online MLR\n",
            "Enter the data origin (offline/online) and your model category for graph 2: Offline MLR\n"
          ]
        },
        {
          "output_type": "execute_result",
          "data": {
            "text/plain": [
              "<matplotlib.legend.Legend at 0x7fcdd6931b10>"
            ]
          },
          "metadata": {},
          "execution_count": 333
        },
        {
          "output_type": "display_data",
          "data": {
            "text/plain": [
              "<Figure size 1080x648 with 1 Axes>"
            ],
            "image/png": "[encoded data removed]"
          },
          "metadata": {
            "needs_background": "light"
          }
        }
      ]
    },
    {
      "cell_type": "markdown",
      "source": [
        "### Final results table\n",
        "---\n",
        "- Load all models of a given category (Online/Offline)\n",
        "- Build an Excel file with the every model results"
      ],
      "metadata": {
        "id": "0JRUVaAeh601"
      }
    },
    {
      "cell_type": "code",
      "source": [
        "# loading models\n",
        "category = 'Online'\n",
        "\n",
        "MLR_results = joblib.load(f'/content/drive/MyDrive/TCC/Trained models/{category}_Best_MLR.pkl')\n",
        "PCR_results = joblib.load(f'/content/drive/MyDrive/TCC/Trained models/{category}_Best_PCR.pkl')\n",
        "PLS_results = joblib.load(f'/content/drive/MyDrive/TCC/Trained models/{category}_Best_PLS.pkl')\n",
        "SVR_results = joblib.load(f'/content/drive/MyDrive/TCC/Trained models/{category}_Best_SVR.pkl')\n",
        "\n",
        "MLR_results = pd.DataFrame(MLR_results, index=['RMSE_MLR', 'Prediction RMSE_MLR', 'Prediction MAPE_MLR', 'Best Parameters', 'Best model']).drop(['Best model', 'Best Parameters'], axis=0)\n",
        "PCR_results = pd.DataFrame(PCR_results, index=['RMSE_PCR', 'Prediction RMSE_PCR', 'Prediction MAPE_PCR', 'Best Parameters', 'Best model']).drop(['Best model', 'Best Parameters'], axis=0)\n",
        "PLS_results = pd.DataFrame(PLS_results, index=['RMSE_PLS', 'Prediction RMSE_PLS', 'Prediction MAPE_PLS', 'Best Parameters', 'Best model']).drop(['Best model', 'Best Parameters'], axis=0)\n",
        "SVR_results = pd.DataFrame(SVR_results, index=['RMSE_SVR', 'Prediction RMSE_SVR', 'Prediction MAPE_SVR', 'Best Parameters', 'Best model']).drop(['Best model', 'Best Parameters'], axis=0)"
      ],
      "metadata": {
        "id": "GnGu7CSwmXDO"
      },
      "execution_count": null,
      "outputs": []
    },
    {
      "cell_type": "code",
      "source": [
        "pd.concat([MLR_results, PCR_results, PLS_results, SVR_results]).sort_index(ascending=False).T"
      ],
      "metadata": {
        "colab": {
          "base_uri": "https://localhost:8080/",
          "height": 361
        },
        "id": "v3QnAIWwqBZm",
        "outputId": "c2e32239-9d49-4acb-86b2-c8a8610944bf"
      },
      "execution_count": null,
      "outputs": [
        {
          "output_type": "execute_result",
          "data": {
            "text/plain": [
              "            RMSE_SVR              RMSE_PLS       RMSE_PCR       RMSE_MLR  \\\n",
              "Xv   -2021394.813096 -3637893792453.862305 -329032.192227 -344785.338902   \n",
              "CV        -21.022832             -587.6509      -7.085678      -7.186819   \n",
              "Gluc       -0.761202             -0.809108      -0.365698      -0.399537   \n",
              "Lac        -0.046901             -0.000509       -0.00651      -0.007056   \n",
              "Gln        -0.173409             -0.094851      -0.099127      -0.095973   \n",
              "Glu        -0.142366             -0.046247      -0.070705      -0.074966   \n",
              "NH4        -0.013274              -0.00015      -0.002772       -0.00306   \n",
              "K          -0.034752             -0.001187      -0.014995      -0.016346   \n",
              "\n",
              "     Prediction RMSE_SVR Prediction RMSE_PLS Prediction RMSE_PCR  \\\n",
              "Xv        1871607.407053      1906755.564314       250288.921635   \n",
              "CV             21.697635           23.862339             3.87821   \n",
              "Gluc            0.734624            0.927703            0.255116   \n",
              "Lac             0.047055            0.021443            0.005485   \n",
              "Gln             0.157825            0.324546            0.062124   \n",
              "Glu              0.13095            0.204539            0.051059   \n",
              "NH4             0.013179            0.012475            0.002063   \n",
              "K               0.034784             0.03446            0.011707   \n",
              "\n",
              "     Prediction RMSE_MLR Prediction MAPE_SVR Prediction MAPE_PLS  \\\n",
              "Xv         170461.076387            1.168177            1.414358   \n",
              "CV               5.62991             0.71331            0.923768   \n",
              "Gluc            0.304158            0.056559            0.070816   \n",
              "Lac             0.005314            1.295701            0.352816   \n",
              "Gln             0.067592            0.132629            0.414092   \n",
              "Glu             0.057591             0.06923            0.098136   \n",
              "NH4             0.002523             0.13252            0.121791   \n",
              "K               0.013514            0.047719            0.046077   \n",
              "\n",
              "     Prediction MAPE_PCR Prediction MAPE_MLR  \n",
              "Xv              0.123439            0.116824  \n",
              "CV              0.082434            0.178855  \n",
              "Gluc            0.019581            0.022585  \n",
              "Lac             0.073447            0.073664  \n",
              "Gln             0.036881            0.053162  \n",
              "Glu             0.024024            0.026936  \n",
              "NH4             0.016389            0.020077  \n",
              "K               0.013361            0.016519  "
            ],
            "text/html": [
              "\n",
              "  <div id=\"df-1b8a276e-bade-45c4-a5bd-5cde1fe52e5e\">\n",
              "    <div class=\"colab-df-container\">\n",
              "      <div>\n",
              "<style scoped>\n",
              "    .dataframe tbody tr th:only-of-type {\n",
              "        vertical-align: middle;\n",
              "    }\n",
              "\n",
              "    .dataframe tbody tr th {\n",
              "        vertical-align: top;\n",
              "    }\n",
              "\n",
              "    .dataframe thead th {\n",
              "        text-align: right;\n",
              "    }\n",
              "</style>\n",
              "<table border=\"1\" class=\"dataframe\">\n",
              "  <thead>\n",
              "    <tr style=\"text-align: right;\">\n",
              "      <th></th>\n",
              "      <th>RMSE_SVR</th>\n",
              "      <th>RMSE_PLS</th>\n",
              "      <th>RMSE_PCR</th>\n",
              "      <th>RMSE_MLR</th>\n",
              "      <th>Prediction RMSE_SVR</th>\n",
              "      <th>Prediction RMSE_PLS</th>\n",
              "      <th>Prediction RMSE_PCR</th>\n",
              "      <th>Prediction RMSE_MLR</th>\n",
              "      <th>Prediction MAPE_SVR</th>\n",
              "      <th>Prediction MAPE_PLS</th>\n",
              "      <th>Prediction MAPE_PCR</th>\n",
              "      <th>Prediction MAPE_MLR</th>\n",
              "    </tr>\n",
              "  </thead>\n",
              "  <tbody>\n",
              "    <tr>\n",
              "      <th>Xv</th>\n",
              "      <td>-2021394.813096</td>\n",
              "      <td>-3637893792453.862305</td>\n",
              "      <td>-329032.192227</td>\n",
              "      <td>-344785.338902</td>\n",
              "      <td>1871607.407053</td>\n",
              "      <td>1906755.564314</td>\n",
              "      <td>250288.921635</td>\n",
              "      <td>170461.076387</td>\n",
              "      <td>1.168177</td>\n",
              "      <td>1.414358</td>\n",
              "      <td>0.123439</td>\n",
              "      <td>0.116824</td>\n",
              "    </tr>\n",
              "    <tr>\n",
              "      <th>CV</th>\n",
              "      <td>-21.022832</td>\n",
              "      <td>-587.6509</td>\n",
              "      <td>-7.085678</td>\n",
              "      <td>-7.186819</td>\n",
              "      <td>21.697635</td>\n",
              "      <td>23.862339</td>\n",
              "      <td>3.87821</td>\n",
              "      <td>5.62991</td>\n",
              "      <td>0.71331</td>\n",
              "      <td>0.923768</td>\n",
              "      <td>0.082434</td>\n",
              "      <td>0.178855</td>\n",
              "    </tr>\n",
              "    <tr>\n",
              "      <th>Gluc</th>\n",
              "      <td>-0.761202</td>\n",
              "      <td>-0.809108</td>\n",
              "      <td>-0.365698</td>\n",
              "      <td>-0.399537</td>\n",
              "      <td>0.734624</td>\n",
              "      <td>0.927703</td>\n",
              "      <td>0.255116</td>\n",
              "      <td>0.304158</td>\n",
              "      <td>0.056559</td>\n",
              "      <td>0.070816</td>\n",
              "      <td>0.019581</td>\n",
              "      <td>0.022585</td>\n",
              "    </tr>\n",
              "    <tr>\n",
              "      <th>Lac</th>\n",
              "      <td>-0.046901</td>\n",
              "      <td>-0.000509</td>\n",
              "      <td>-0.00651</td>\n",
              "      <td>-0.007056</td>\n",
              "      <td>0.047055</td>\n",
              "      <td>0.021443</td>\n",
              "      <td>0.005485</td>\n",
              "      <td>0.005314</td>\n",
              "      <td>1.295701</td>\n",
              "      <td>0.352816</td>\n",
              "      <td>0.073447</td>\n",
              "      <td>0.073664</td>\n",
              "    </tr>\n",
              "    <tr>\n",
              "      <th>Gln</th>\n",
              "      <td>-0.173409</td>\n",
              "      <td>-0.094851</td>\n",
              "      <td>-0.099127</td>\n",
              "      <td>-0.095973</td>\n",
              "      <td>0.157825</td>\n",
              "      <td>0.324546</td>\n",
              "      <td>0.062124</td>\n",
              "      <td>0.067592</td>\n",
              "      <td>0.132629</td>\n",
              "      <td>0.414092</td>\n",
              "      <td>0.036881</td>\n",
              "      <td>0.053162</td>\n",
              "    </tr>\n",
              "    <tr>\n",
              "      <th>Glu</th>\n",
              "      <td>-0.142366</td>\n",
              "      <td>-0.046247</td>\n",
              "      <td>-0.070705</td>\n",
              "      <td>-0.074966</td>\n",
              "      <td>0.13095</td>\n",
              "      <td>0.204539</td>\n",
              "      <td>0.051059</td>\n",
              "      <td>0.057591</td>\n",
              "      <td>0.06923</td>\n",
              "      <td>0.098136</td>\n",
              "      <td>0.024024</td>\n",
              "      <td>0.026936</td>\n",
              "    </tr>\n",
              "    <tr>\n",
              "      <th>NH4</th>\n",
              "      <td>-0.013274</td>\n",
              "      <td>-0.00015</td>\n",
              "      <td>-0.002772</td>\n",
              "      <td>-0.00306</td>\n",
              "      <td>0.013179</td>\n",
              "      <td>0.012475</td>\n",
              "      <td>0.002063</td>\n",
              "      <td>0.002523</td>\n",
              "      <td>0.13252</td>\n",
              "      <td>0.121791</td>\n",
              "      <td>0.016389</td>\n",
              "      <td>0.020077</td>\n",
              "    </tr>\n",
              "    <tr>\n",
              "      <th>K</th>\n",
              "      <td>-0.034752</td>\n",
              "      <td>-0.001187</td>\n",
              "      <td>-0.014995</td>\n",
              "      <td>-0.016346</td>\n",
              "      <td>0.034784</td>\n",
              "      <td>0.03446</td>\n",
              "      <td>0.011707</td>\n",
              "      <td>0.013514</td>\n",
              "      <td>0.047719</td>\n",
              "      <td>0.046077</td>\n",
              "      <td>0.013361</td>\n",
              "      <td>0.016519</td>\n",
              "    </tr>\n",
              "  </tbody>\n",
              "</table>\n",
              "</div>\n",
              "      <button class=\"colab-df-convert\" onclick=\"convertToInteractive('df-1b8a276e-bade-45c4-a5bd-5cde1fe52e5e')\"\n",
              "              title=\"Convert this dataframe to an interactive table.\"\n",
              "              style=\"display:none;\">\n",
              "        \n",
              "  <svg xmlns=\"http://www.w3.org/2000/svg\" height=\"24px\"viewBox=\"0 0 24 24\"\n",
              "       width=\"24px\">\n",
              "    <path d=\"M0 0h24v24H0V0z\" fill=\"none\"/>\n",
              "    <path d=\"M18.56 5.44l.94 2.06.94-2.06 2.06-.94-2.06-.94-.94-2.06-.94 2.06-2.06.94zm-11 1L8.5 8.5l.94-2.06 2.06-.94-2.06-.94L8.5 2.5l-.94 2.06-2.06.94zm10 10l.94 2.06.94-2.06 2.06-.94-2.06-.94-.94-2.06-.94 2.06-2.06.94z\"/><path d=\"M17.41 7.96l-1.37-1.37c-.4-.4-.92-.59-1.43-.59-.52 0-1.04.2-1.43.59L10.3 9.45l-7.72 7.72c-.78.78-.78 2.05 0 2.83L4 21.41c.39.39.9.59 1.41.59.51 0 1.02-.2 1.41-.59l7.78-7.78 2.81-2.81c.8-.78.8-2.07 0-2.86zM5.41 20L4 18.59l7.72-7.72 1.47 1.35L5.41 20z\"/>\n",
              "  </svg>\n",
              "      </button>\n",
              "      \n",
              "  <style>\n",
              "    .colab-df-container {\n",
              "      display:flex;\n",
              "      flex-wrap:wrap;\n",
              "      gap: 12px;\n",
              "    }\n",
              "\n",
              "    .colab-df-convert {\n",
              "      background-color: #E8F0FE;\n",
              "      border: none;\n",
              "      border-radius: 50%;\n",
              "      cursor: pointer;\n",
              "      display: none;\n",
              "      fill: #1967D2;\n",
              "      height: 32px;\n",
              "      padding: 0 0 0 0;\n",
              "      width: 32px;\n",
              "    }\n",
              "\n",
              "    .colab-df-convert:hover {\n",
              "      background-color: #E2EBFA;\n",
              "      box-shadow: 0px 1px 2px rgba(60, 64, 67, 0.3), 0px 1px 3px 1px rgba(60, 64, 67, 0.15);\n",
              "      fill: #174EA6;\n",
              "    }\n",
              "\n",
              "    [theme=dark] .colab-df-convert {\n",
              "      background-color: #3B4455;\n",
              "      fill: #D2E3FC;\n",
              "    }\n",
              "\n",
              "    [theme=dark] .colab-df-convert:hover {\n",
              "      background-color: #434B5C;\n",
              "      box-shadow: 0px 1px 3px 1px rgba(0, 0, 0, 0.15);\n",
              "      filter: drop-shadow(0px 1px 2px rgba(0, 0, 0, 0.3));\n",
              "      fill: #FFFFFF;\n",
              "    }\n",
              "  </style>\n",
              "\n",
              "      <script>\n",
              "        const buttonEl =\n",
              "          document.querySelector('#df-1b8a276e-bade-45c4-a5bd-5cde1fe52e5e button.colab-df-convert');\n",
              "        buttonEl.style.display =\n",
              "          google.colab.kernel.accessAllowed ? 'block' : 'none';\n",
              "\n",
              "        async function convertToInteractive(key) {\n",
              "          const element = document.querySelector('#df-1b8a276e-bade-45c4-a5bd-5cde1fe52e5e');\n",
              "          const dataTable =\n",
              "            await google.colab.kernel.invokeFunction('convertToInteractive',\n",
              "                                                     [key], {});\n",
              "          if (!dataTable) return;\n",
              "\n",
              "          const docLinkHtml = 'Like what you see? Visit the ' +\n",
              "            '<a target=\"_blank\" href=https://colab.research.google.com/notebooks/data_table.ipynb>data table notebook</a>'\n",
              "            + ' to learn more about interactive tables.';\n",
              "          element.innerHTML = '';\n",
              "          dataTable['output_type'] = 'display_data';\n",
              "          await google.colab.output.renderOutput(dataTable, element);\n",
              "          const docLink = document.createElement('div');\n",
              "          docLink.innerHTML = docLinkHtml;\n",
              "          element.appendChild(docLink);\n",
              "        }\n",
              "      </script>\n",
              "    </div>\n",
              "  </div>\n",
              "  "
            ]
          },
          "metadata": {},
          "execution_count": 328
        }
      ]
    },
    {
      "cell_type": "code",
      "source": [
        "all_results = PCA_results.join(SVR_results).join(MLR_results).join(PLS_results)\n",
        "all_results = all_results[['MSE_MLR', 'MSE_PCA', 'MSE_PLS', 'MSE_SVR', 'Number of PCs', 'Best PLS Parameters', 'Best SVR Parameters']]\n",
        "all_results.to_excel('Resultados Espectro Completo Offline - PCR MLR PLS SVR.xlsx')\n",
        "all_results\n",
        "\n",
        "df_online = pd.read_excel('Resultados Espectro Completo Online - PCR MLR PLS SVR.xlsx')\n",
        "df_online = df_online[['MSE_MLR', 'MSE_PCA', 'MSE_PLS', 'MSE_SVR']].max(axis=1)\n",
        "df_online.index = y.columns\n",
        "\n",
        "df_offline = pd.read_excel('Resultados Espectro Completo Offline - PCR MLR PLS SVR.xlsx')\n",
        "df_offline = df_offline[['MSE_MLR', 'MSE_PCA', 'MSE_PLS', 'MSE_SVR']].max(axis=1)\n",
        "df_offline.index = y.columns\n",
        "\n",
        "comparison = pd.concat([df_online, df_offline], axis=1)\n",
        "comparison.columns = ['Online', 'Offline']\n",
        "comparison['Diferença em %'] = round(abs((comparison['Offline'] - comparison['Online']) / comparison['Online'] * 100), 2)\n",
        "comparison.to_excel('Comparação entre Online e Offline.xlsx')\n",
        "comparison"
      ],
      "metadata": {
        "id": "xzYanYoVXmYd"
      },
      "execution_count": null,
      "outputs": []
    }
  ],
  "metadata": {
    "kernelspec": {
      "display_name": "Python 3.8.12 ('base')",
      "language": "python",
      "name": "python3"
    },
    "language_info": {
      "codemirror_mode": {
        "name": "ipython",
        "version": 3
      },
      "file_extension": ".py",
      "mimetype": "text/x-python",
      "name": "python",
      "nbconvert_exporter": "python",
      "pygments_lexer": "ipython3",
      "version": "3.8.12"
    },
    "orig_nbformat": 4,
    "vscode": {
      "interpreter": {
        "hash": "83ef6e50cc29290c96a43b2b28e951fa9950334aea30833e486848d425c5f395"
      }
    },
    "colab": {
      "provenance": []
    }
  },
  "nbformat": 4,
  "nbformat_minor": 0
}